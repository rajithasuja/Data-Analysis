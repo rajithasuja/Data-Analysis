{
  "nbformat": 4,
  "nbformat_minor": 0,
  "metadata": {
    "kernelspec": {
      "display_name": "Python 3",
      "language": "python",
      "name": "python3"
    },
    "language_info": {
      "codemirror_mode": {
        "name": "ipython",
        "version": 3
      },
      "file_extension": ".py",
      "mimetype": "text/x-python",
      "name": "python",
      "nbconvert_exporter": "python",
      "pygments_lexer": "ipython3",
      "version": "3.7.6"
    },
    "colab": {
      "name": "MajorProjectFinal (1).ipynb",
      "provenance": []
    }
  },
  "cells": [
    {
      "cell_type": "code",
      "metadata": {
        "id": "54itBkLSf4YM",
        "colab_type": "code",
        "colab": {}
      },
      "source": [
        "import pandas as pd\n",
        "import numpy as np\n",
        "import seaborn as sns\n",
        "import matplotlib.pyplot as plt\n",
        "import matplotlib.lines as mlines"
      ],
      "execution_count": null,
      "outputs": []
    },
    {
      "cell_type": "code",
      "metadata": {
        "id": "4MWnHTtsf4YP",
        "colab_type": "code",
        "colab": {}
      },
      "source": [
        "import matplotlib.mlab as mlab \n",
        "import matplotlib.pyplot as plt\n",
        "%matplotlib inline"
      ],
      "execution_count": null,
      "outputs": []
    },
    {
      "cell_type": "code",
      "metadata": {
        "scrolled": false,
        "id": "bQzwwsiYf4YS",
        "colab_type": "code",
        "colab": {}
      },
      "source": [
        "import pandas as pd\n",
        "dt=pd.read_csv('Information.csv',encoding='ISO-8859-1')"
      ],
      "execution_count": null,
      "outputs": []
    },
    {
      "cell_type": "code",
      "metadata": {
        "id": "fBc_dZihf4YU",
        "colab_type": "code",
        "colab": {},
        "outputId": "44da2ca8-ec11-4b47-c25d-01afb3abc17d"
      },
      "source": [
        "dt.dropna(axis=0, how=\"any\", thresh=None, subset=None, inplace=False)"
      ],
      "execution_count": null,
      "outputs": [
        {
          "output_type": "execute_result",
          "data": {
            "text/html": [
              "<div>\n",
              "<style scoped>\n",
              "    .dataframe tbody tr th:only-of-type {\n",
              "        vertical-align: middle;\n",
              "    }\n",
              "\n",
              "    .dataframe tbody tr th {\n",
              "        vertical-align: top;\n",
              "    }\n",
              "\n",
              "    .dataframe thead th {\n",
              "        text-align: right;\n",
              "    }\n",
              "</style>\n",
              "<table border=\"1\" class=\"dataframe\">\n",
              "  <thead>\n",
              "    <tr style=\"text-align: right;\">\n",
              "      <th></th>\n",
              "      <th>_unit_id</th>\n",
              "      <th>_golden</th>\n",
              "      <th>_unit_state</th>\n",
              "      <th>_trusted_judgments</th>\n",
              "      <th>_last_judgment_at</th>\n",
              "      <th>gender</th>\n",
              "      <th>gender:confidence</th>\n",
              "      <th>profile_yn</th>\n",
              "      <th>profile_yn:confidence</th>\n",
              "      <th>created</th>\n",
              "      <th>...</th>\n",
              "      <th>profileimage</th>\n",
              "      <th>retweet_count</th>\n",
              "      <th>sidebar_color</th>\n",
              "      <th>text</th>\n",
              "      <th>tweet_coord</th>\n",
              "      <th>tweet_count</th>\n",
              "      <th>tweet_created</th>\n",
              "      <th>tweet_id</th>\n",
              "      <th>tweet_location</th>\n",
              "      <th>user_timezone</th>\n",
              "    </tr>\n",
              "  </thead>\n",
              "  <tbody>\n",
              "  </tbody>\n",
              "</table>\n",
              "<p>0 rows × 26 columns</p>\n",
              "</div>"
            ],
            "text/plain": [
              "Empty DataFrame\n",
              "Columns: [_unit_id, _golden, _unit_state, _trusted_judgments, _last_judgment_at, gender, gender:confidence, profile_yn, profile_yn:confidence, created, description, fav_number, gender_gold, link_color, name, profile_yn_gold, profileimage, retweet_count, sidebar_color, text, tweet_coord, tweet_count, tweet_created, tweet_id, tweet_location, user_timezone]\n",
              "Index: []\n",
              "\n",
              "[0 rows x 26 columns]"
            ]
          },
          "metadata": {
            "tags": []
          },
          "execution_count": 427
        }
      ]
    },
    {
      "cell_type": "code",
      "metadata": {
        "id": "rkX9oGC0f4YX",
        "colab_type": "code",
        "colab": {},
        "outputId": "6e965d24-49ea-4ac7-c81e-7973de8df432"
      },
      "source": [
        "dt.info()"
      ],
      "execution_count": null,
      "outputs": [
        {
          "output_type": "stream",
          "text": [
            "<class 'pandas.core.frame.DataFrame'>\n",
            "RangeIndex: 20050 entries, 0 to 20049\n",
            "Data columns (total 26 columns):\n",
            " #   Column                 Non-Null Count  Dtype  \n",
            "---  ------                 --------------  -----  \n",
            " 0   _unit_id               20050 non-null  int64  \n",
            " 1   _golden                20050 non-null  bool   \n",
            " 2   _unit_state            20050 non-null  object \n",
            " 3   _trusted_judgments     20050 non-null  int64  \n",
            " 4   _last_judgment_at      20000 non-null  object \n",
            " 5   gender                 19953 non-null  object \n",
            " 6   gender:confidence      20024 non-null  float64\n",
            " 7   profile_yn             20050 non-null  object \n",
            " 8   profile_yn:confidence  20050 non-null  float64\n",
            " 9   created                20050 non-null  object \n",
            " 10  description            16306 non-null  object \n",
            " 11  fav_number             20050 non-null  int64  \n",
            " 12  gender_gold            50 non-null     object \n",
            " 13  link_color             20050 non-null  object \n",
            " 14  name                   20050 non-null  object \n",
            " 15  profile_yn_gold        50 non-null     object \n",
            " 16  profileimage           20050 non-null  object \n",
            " 17  retweet_count          20050 non-null  int64  \n",
            " 18  sidebar_color          20050 non-null  object \n",
            " 19  text                   20050 non-null  object \n",
            " 20  tweet_coord            159 non-null    object \n",
            " 21  tweet_count            20050 non-null  int64  \n",
            " 22  tweet_created          20050 non-null  object \n",
            " 23  tweet_id               20050 non-null  float64\n",
            " 24  tweet_location         12566 non-null  object \n",
            " 25  user_timezone          12252 non-null  object \n",
            "dtypes: bool(1), float64(3), int64(5), object(17)\n",
            "memory usage: 3.8+ MB\n"
          ],
          "name": "stdout"
        }
      ]
    },
    {
      "cell_type": "code",
      "metadata": {
        "id": "p5mT1e4Sf4YZ",
        "colab_type": "code",
        "colab": {}
      },
      "source": [
        "#Attributes that do not provide useful information for Gender classification are dropped\n",
        "dt.drop(['_unit_id','_last_judgment_at','user_timezone','tweet_coord','tweet_count','tweet_created','tweet_id','tweet_location','profileimage','created'], axis=1, inplace=True)"
      ],
      "execution_count": null,
      "outputs": []
    },
    {
      "cell_type": "code",
      "metadata": {
        "id": "mDlVtHTCf4Yb",
        "colab_type": "code",
        "colab": {},
        "outputId": "2273f608-2f83-4ab6-f924-d609ae5412ed"
      },
      "source": [
        "dt.info()"
      ],
      "execution_count": null,
      "outputs": [
        {
          "output_type": "stream",
          "text": [
            "<class 'pandas.core.frame.DataFrame'>\n",
            "RangeIndex: 20050 entries, 0 to 20049\n",
            "Data columns (total 16 columns):\n",
            " #   Column                 Non-Null Count  Dtype  \n",
            "---  ------                 --------------  -----  \n",
            " 0   _golden                20050 non-null  bool   \n",
            " 1   _unit_state            20050 non-null  object \n",
            " 2   _trusted_judgments     20050 non-null  int64  \n",
            " 3   gender                 19953 non-null  object \n",
            " 4   gender:confidence      20024 non-null  float64\n",
            " 5   profile_yn             20050 non-null  object \n",
            " 6   profile_yn:confidence  20050 non-null  float64\n",
            " 7   description            16306 non-null  object \n",
            " 8   fav_number             20050 non-null  int64  \n",
            " 9   gender_gold            50 non-null     object \n",
            " 10  link_color             20050 non-null  object \n",
            " 11  name                   20050 non-null  object \n",
            " 12  profile_yn_gold        50 non-null     object \n",
            " 13  retweet_count          20050 non-null  int64  \n",
            " 14  sidebar_color          20050 non-null  object \n",
            " 15  text                   20050 non-null  object \n",
            "dtypes: bool(1), float64(2), int64(3), object(10)\n",
            "memory usage: 2.3+ MB\n"
          ],
          "name": "stdout"
        }
      ]
    },
    {
      "cell_type": "code",
      "metadata": {
        "id": "SwDjyEtZf4Yf",
        "colab_type": "code",
        "colab": {},
        "outputId": "89d0d46f-c147-40b9-9f5b-982e09a1130f"
      },
      "source": [
        "dt['gender'].value_counts()"
      ],
      "execution_count": null,
      "outputs": [
        {
          "output_type": "execute_result",
          "data": {
            "text/plain": [
              "female     6700\n",
              "male       6194\n",
              "brand      5942\n",
              "unknown    1117\n",
              "Name: gender, dtype: int64"
            ]
          },
          "metadata": {
            "tags": []
          },
          "execution_count": 431
        }
      ]
    },
    {
      "cell_type": "code",
      "metadata": {
        "id": "htcHLbzrf4Yh",
        "colab_type": "code",
        "colab": {},
        "outputId": "364df1b3-c9ee-4b1e-fc38-59d90d387ee4"
      },
      "source": [
        "#if gender==unknown drop those columns\n",
        "drop_items_idx = dt[dt['gender'] == 'unknown'].index\n",
        "dt.drop(index = drop_items_idx, inplace = True)\n",
        "dt['gender'].value_counts()"
      ],
      "execution_count": null,
      "outputs": [
        {
          "output_type": "execute_result",
          "data": {
            "text/plain": [
              "female    6700\n",
              "male      6194\n",
              "brand     5942\n",
              "Name: gender, dtype: int64"
            ]
          },
          "metadata": {
            "tags": []
          },
          "execution_count": 432
        }
      ]
    },
    {
      "cell_type": "code",
      "metadata": {
        "id": "eqmchCdGf4Yj",
        "colab_type": "code",
        "colab": {},
        "outputId": "f759f916-2070-4cab-856a-340e3e5a4172"
      },
      "source": [
        "#'No': Profile was meant to be part of the dataset but was not available when contributors went to judge it.\n",
        "dt[dt['profile_yn'] == 'no']['gender']"
      ],
      "execution_count": null,
      "outputs": [
        {
          "output_type": "execute_result",
          "data": {
            "text/plain": [
              "109      NaN\n",
              "137      NaN\n",
              "496      NaN\n",
              "582      NaN\n",
              "679      NaN\n",
              "        ... \n",
              "18524    NaN\n",
              "18700    NaN\n",
              "18840    NaN\n",
              "19773    NaN\n",
              "19842    NaN\n",
              "Name: gender, Length: 97, dtype: object"
            ]
          },
          "metadata": {
            "tags": []
          },
          "execution_count": 433
        }
      ]
    },
    {
      "cell_type": "code",
      "metadata": {
        "id": "7PMOWrErf4Yl",
        "colab_type": "code",
        "colab": {},
        "outputId": "397ced85-9cf5-469c-e2a1-d179e17919d1"
      },
      "source": [
        "#It is shown that all of 97 instances with profile_yn == no are all NaN in gender.\n",
        "#Therefore, i get rid of these 97 instances. Also, i get rid of profile_yn, profile_yn:confidence and profile_yn_gold as\n",
        "#they are not useful anymore.\n",
        "drop_items_idx = dt[dt['profile_yn'] == 'no'].index\n",
        "dt.drop (index = drop_items_idx, inplace = True)\n",
        "print (dt['profile_yn'].value_counts())\n",
        "dt.drop (columns = ['profile_yn','profile_yn:confidence','profile_yn_gold'], inplace = True)"
      ],
      "execution_count": null,
      "outputs": [
        {
          "output_type": "stream",
          "text": [
            "yes    18836\n",
            "Name: profile_yn, dtype: int64\n"
          ],
          "name": "stdout"
        }
      ]
    },
    {
      "cell_type": "code",
      "metadata": {
        "id": "gTXrqYFDf4Yn",
        "colab_type": "code",
        "colab": {},
        "outputId": "55fd5128-0d54-4a02-ebf9-3e0849166773"
      },
      "source": [
        "print ('Data with label-confidence < 100%: ', dt[dt['gender:confidence'] < 1].shape)"
      ],
      "execution_count": null,
      "outputs": [
        {
          "output_type": "stream",
          "text": [
            "Data with label-confidence < 100%:  (5032, 13)\n"
          ],
          "name": "stdout"
        }
      ]
    },
    {
      "cell_type": "code",
      "metadata": {
        "id": "MIRTH1wFf4Yo",
        "colab_type": "code",
        "colab": {},
        "outputId": "16b7f0cf-449d-487f-f5f0-e8d980bbf7ed"
      },
      "source": [
        "#Here, i can observe that approximately 26.7% (5032/18836) of labeled instances were lower than 100% of confidence\n",
        "#Then, i get rid of those instances and the feature gender:confidence as it is not useful anymore.\n",
        "drop_items_idx = dt[dt['gender:confidence'] < 1].index\n",
        "dt.drop (index = drop_items_idx, inplace = True)\n",
        "print (dt['gender:confidence'].value_counts())\n",
        "dt.drop (columns = ['gender:confidence'], inplace = True)"
      ],
      "execution_count": null,
      "outputs": [
        {
          "output_type": "stream",
          "text": [
            "1.0    13804\n",
            "Name: gender:confidence, dtype: int64\n"
          ],
          "name": "stdout"
        }
      ]
    },
    {
      "cell_type": "code",
      "metadata": {
        "id": "6Zy0IYlif4Yr",
        "colab_type": "code",
        "colab": {}
      },
      "source": [
        "#Get rid of remaining features which are not useful\n",
        "dt.drop (columns = ['_golden','_unit_state','_trusted_judgments','gender_gold'], inplace = True)"
      ],
      "execution_count": null,
      "outputs": []
    },
    {
      "cell_type": "code",
      "metadata": {
        "id": "dodrjg0jf4Ys",
        "colab_type": "code",
        "colab": {},
        "outputId": "8d4785f0-cfe6-48ee-9252-e8b28341690c"
      },
      "source": [
        "dt.head()"
      ],
      "execution_count": null,
      "outputs": [
        {
          "output_type": "execute_result",
          "data": {
            "text/html": [
              "<div>\n",
              "<style scoped>\n",
              "    .dataframe tbody tr th:only-of-type {\n",
              "        vertical-align: middle;\n",
              "    }\n",
              "\n",
              "    .dataframe tbody tr th {\n",
              "        vertical-align: top;\n",
              "    }\n",
              "\n",
              "    .dataframe thead th {\n",
              "        text-align: right;\n",
              "    }\n",
              "</style>\n",
              "<table border=\"1\" class=\"dataframe\">\n",
              "  <thead>\n",
              "    <tr style=\"text-align: right;\">\n",
              "      <th></th>\n",
              "      <th>gender</th>\n",
              "      <th>description</th>\n",
              "      <th>fav_number</th>\n",
              "      <th>link_color</th>\n",
              "      <th>name</th>\n",
              "      <th>retweet_count</th>\n",
              "      <th>sidebar_color</th>\n",
              "      <th>text</th>\n",
              "    </tr>\n",
              "  </thead>\n",
              "  <tbody>\n",
              "    <tr>\n",
              "      <th>0</th>\n",
              "      <td>male</td>\n",
              "      <td>i sing my own rhythm.</td>\n",
              "      <td>0</td>\n",
              "      <td>08C2C2</td>\n",
              "      <td>sheezy0</td>\n",
              "      <td>0</td>\n",
              "      <td>FFFFFF</td>\n",
              "      <td>Robbie E Responds To Critics After Win Against...</td>\n",
              "    </tr>\n",
              "    <tr>\n",
              "      <th>1</th>\n",
              "      <td>male</td>\n",
              "      <td>I'm the author of novels filled with family dr...</td>\n",
              "      <td>68</td>\n",
              "      <td>0084B4</td>\n",
              "      <td>DavdBurnett</td>\n",
              "      <td>0</td>\n",
              "      <td>C0DEED</td>\n",
              "      <td>ÛÏIt felt like they were my friends and I was...</td>\n",
              "    </tr>\n",
              "    <tr>\n",
              "      <th>3</th>\n",
              "      <td>male</td>\n",
              "      <td>Mobile guy.  49ers, Shazam, Google, Kleiner Pe...</td>\n",
              "      <td>202</td>\n",
              "      <td>0084B4</td>\n",
              "      <td>douggarland</td>\n",
              "      <td>0</td>\n",
              "      <td>C0DEED</td>\n",
              "      <td>Hi @JordanSpieth - Looking at the url - do you...</td>\n",
              "    </tr>\n",
              "    <tr>\n",
              "      <th>4</th>\n",
              "      <td>female</td>\n",
              "      <td>Ricky Wilson The Best FRONTMAN/Kaiser Chiefs T...</td>\n",
              "      <td>37318</td>\n",
              "      <td>3B94D9</td>\n",
              "      <td>WilfordGemma</td>\n",
              "      <td>0</td>\n",
              "      <td>0</td>\n",
              "      <td>Watching Neighbours on Sky+ catching up with t...</td>\n",
              "    </tr>\n",
              "    <tr>\n",
              "      <th>5</th>\n",
              "      <td>female</td>\n",
              "      <td>you don't know me.</td>\n",
              "      <td>3901</td>\n",
              "      <td>F5ABB5</td>\n",
              "      <td>monroevicious</td>\n",
              "      <td>0</td>\n",
              "      <td>0</td>\n",
              "      <td>Ive seen people on the train with lamps, chair...</td>\n",
              "    </tr>\n",
              "  </tbody>\n",
              "</table>\n",
              "</div>"
            ],
            "text/plain": [
              "   gender                                        description  fav_number  \\\n",
              "0    male                              i sing my own rhythm.           0   \n",
              "1    male  I'm the author of novels filled with family dr...          68   \n",
              "3    male  Mobile guy.  49ers, Shazam, Google, Kleiner Pe...         202   \n",
              "4  female  Ricky Wilson The Best FRONTMAN/Kaiser Chiefs T...       37318   \n",
              "5  female                                 you don't know me.        3901   \n",
              "\n",
              "  link_color           name  retweet_count sidebar_color  \\\n",
              "0     08C2C2        sheezy0              0        FFFFFF   \n",
              "1     0084B4    DavdBurnett              0        C0DEED   \n",
              "3     0084B4    douggarland              0        C0DEED   \n",
              "4     3B94D9   WilfordGemma              0             0   \n",
              "5     F5ABB5  monroevicious              0             0   \n",
              "\n",
              "                                                text  \n",
              "0  Robbie E Responds To Critics After Win Against...  \n",
              "1  ÛÏIt felt like they were my friends and I was...  \n",
              "3  Hi @JordanSpieth - Looking at the url - do you...  \n",
              "4  Watching Neighbours on Sky+ catching up with t...  \n",
              "5  Ive seen people on the train with lamps, chair...  "
            ]
          },
          "metadata": {
            "tags": []
          },
          "execution_count": 438
        }
      ]
    },
    {
      "cell_type": "code",
      "metadata": {
        "id": "EjNUs6xxf4Yu",
        "colab_type": "code",
        "colab": {},
        "outputId": "ecd8ac73-6d0c-4b2c-ea44-63f60cc8d01b"
      },
      "source": [
        "import matplotlib.pyplot as plt\n",
        "import seaborn as sns\n",
        "sns.set_style(\"whitegrid\", {\"axes.facecolor\": \"white\"})\n",
        "sb.countplot(dt['gender'],label=\"Gender\")"
      ],
      "execution_count": null,
      "outputs": [
        {
          "output_type": "execute_result",
          "data": {
            "text/plain": [
              "<matplotlib.axes._subplots.AxesSubplot at 0x1f173787b08>"
            ]
          },
          "metadata": {
            "tags": []
          },
          "execution_count": 439
        },
        {
          "output_type": "display_data",
          "data": {
            "image/png": "[encoded data removed]",
            "text/plain": [
              "<Figure size 432x288 with 1 Axes>"
            ]
          },
          "metadata": {
            "tags": []
          }
        }
      ]
    },
    {
      "cell_type": "markdown",
      "metadata": {
        "id": "51hF1Hywf4Yw",
        "colab_type": "text"
      },
      "source": [
        "#Create a bar plot to visualize the amount of favorites and retweets"
      ]
    },
    {
      "cell_type": "code",
      "metadata": {
        "id": "TiEIMH6qf4Yx",
        "colab_type": "code",
        "colab": {},
        "outputId": "01540810-149d-4ba0-eca2-7a924b60d3cb"
      },
      "source": [
        "sb.barplot (x = 'gender', y = 'fav_number',data = dt)"
      ],
      "execution_count": null,
      "outputs": [
        {
          "output_type": "execute_result",
          "data": {
            "text/plain": [
              "<matplotlib.axes._subplots.AxesSubplot at 0x1f109c79408>"
            ]
          },
          "metadata": {
            "tags": []
          },
          "execution_count": 379
        },
        {
          "output_type": "display_data",
          "data": {
            "image/png": "[encoded data removed]",
            "text/plain": [
              "<Figure size 432x288 with 1 Axes>"
            ]
          },
          "metadata": {
            "tags": []
          }
        }
      ]
    },
    {
      "cell_type": "code",
      "metadata": {
        "id": "vIw4QGiTf4Yz",
        "colab_type": "code",
        "colab": {},
        "outputId": "2fda17c8-7908-4f46-f600-139b0c5ec93d"
      },
      "source": [
        "sb.barplot (x ='gender', y = 'retweet_count',data = dt)"
      ],
      "execution_count": null,
      "outputs": [
        {
          "output_type": "execute_result",
          "data": {
            "text/plain": [
              "<matplotlib.axes._subplots.AxesSubplot at 0x1f109f4a148>"
            ]
          },
          "metadata": {
            "tags": []
          },
          "execution_count": 380
        },
        {
          "output_type": "display_data",
          "data": {
            "image/png": "[encoded data removed]",
            "text/plain": [
              "<Figure size 432x288 with 1 Axes>"
            ]
          },
          "metadata": {
            "tags": []
          }
        }
      ]
    },
    {
      "cell_type": "markdown",
      "metadata": {
        "id": "1b_XFAyIf4Y2",
        "colab_type": "text"
      },
      "source": [
        "Visualize Colors attribute"
      ]
    },
    {
      "cell_type": "code",
      "metadata": {
        "id": "LdM5hzOzf4Y2",
        "colab_type": "code",
        "colab": {},
        "outputId": "5de012b3-6476-4d76-a526-a0d57a3141ba"
      },
      "source": [
        "male_top_sidebar_color = dt[dt['gender'] == 'male']['sidebar_color'].value_counts().head(7)\n",
        "male_top_sidebar_color_idx = male_top_sidebar_color.index\n",
        "male_top_color = male_top_sidebar_color_idx.values\n",
        "\n",
        "male_top_color[2] = '000000'\n",
        "print (male_top_color)\n",
        "l = lambda x: '#'+x\n",
        "\n",
        "sns.set_style(\"darkgrid\", {\"axes.facecolor\": \"#F5ABB5\"})\n",
        "sns.barplot (x = male_top_sidebar_color, y = male_top_color, palette=list(map(l, male_top_color)))"
      ],
      "execution_count": null,
      "outputs": [
        {
          "output_type": "stream",
          "text": [
            "['C0DEED' 'FFFFFF' '000000' 'EEEEEE' '181A1E' 'A8C7F7' '5ED4DC']\n"
          ],
          "name": "stdout"
        },
        {
          "output_type": "execute_result",
          "data": {
            "text/plain": [
              "<matplotlib.axes._subplots.AxesSubplot at 0x1f104923d88>"
            ]
          },
          "metadata": {
            "tags": []
          },
          "execution_count": 440
        },
        {
          "output_type": "display_data",
          "data": {
            "image/png": "[encoded data removed]",
            "text/plain": [
              "<Figure size 432x288 with 1 Axes>"
            ]
          },
          "metadata": {
            "tags": []
          }
        }
      ]
    },
    {
      "cell_type": "code",
      "metadata": {
        "id": "9KxaQxpzf4Y4",
        "colab_type": "code",
        "colab": {},
        "outputId": "03e795b8-c1c1-4f08-f97b-8b9e74bd6825"
      },
      "source": [
        "female_top_sidebar_color = dt[dt['gender'] == 'female']['sidebar_color'].value_counts().head(7)\n",
        "female_top_sidebar_color_idx = female_top_sidebar_color.index\n",
        "female_top_color = female_top_sidebar_color_idx.values\n",
        "\n",
        "female_top_color[2] = '000000'\n",
        "print (female_top_color)\n",
        "\n",
        "l = lambda x: '#'+x\n",
        "\n",
        "sns.set_style(\"darkgrid\", {\"axes.facecolor\": \"#F5ABB5\"})\n",
        "sns.barplot (x = female_top_sidebar_color, y = female_top_color, palette=list(map(l, female_top_color)))"
      ],
      "execution_count": null,
      "outputs": [
        {
          "output_type": "stream",
          "text": [
            "['C0DEED' 'FFFFFF' '000000' 'EEEEEE' '65B0DA' '5ED4DC' 'CC3366']\n"
          ],
          "name": "stdout"
        },
        {
          "output_type": "execute_result",
          "data": {
            "text/plain": [
              "<matplotlib.axes._subplots.AxesSubplot at 0x1f109dd1688>"
            ]
          },
          "metadata": {
            "tags": []
          },
          "execution_count": 382
        },
        {
          "output_type": "display_data",
          "data": {
            "image/png": "[encoded data removed]",
            "text/plain": [
              "<Figure size 432x288 with 1 Axes>"
            ]
          },
          "metadata": {
            "tags": []
          }
        }
      ]
    },
    {
      "cell_type": "markdown",
      "metadata": {
        "id": "dCKQsEO7f4Y6",
        "colab_type": "text"
      },
      "source": [
        "For sidebar color, the top 3 colors of both male and female are the same\n",
        "It is shown that the number of 2nd and 3rd color of female is larger but this can be explained by the fact that the \n",
        "number of female users are more than male.\n",
        "So, at this point, sidebar_color may not give me any useful information for classifying gender."
      ]
    },
    {
      "cell_type": "code",
      "metadata": {
        "id": "ZRchvcv-f4Y7",
        "colab_type": "code",
        "colab": {},
        "outputId": "6d337757-b614-4d27-f8be-f7e03e8472b0"
      },
      "source": [
        "male_top_link_color = dt[dt['gender'] == 'male']['link_color'].value_counts().head(7)\n",
        "male_top_link_color_idx = male_top_link_color.index\n",
        "male_top_color = male_top_link_color_idx.values\n",
        "male_top_color[1] = '009999'\n",
        "male_top_color[5] = '000000'\n",
        "print(male_top_color)\n",
        "\n",
        "l = lambda x: '#'+x\n",
        "\n",
        "sns.set_style(\"whitegrid\", {\"axes.facecolor\": \"white\"})\n",
        "sns.barplot (x = male_top_link_color, y = male_top_link_color_idx, palette=list(map(l, male_top_color)))"
      ],
      "execution_count": null,
      "outputs": [
        {
          "output_type": "stream",
          "text": [
            "['0084B4' '009999' '3B94D9' '2FC2EF' 'DD2E44' '000000' 'ABB8C2']\n"
          ],
          "name": "stdout"
        },
        {
          "output_type": "execute_result",
          "data": {
            "text/plain": [
              "<matplotlib.axes._subplots.AxesSubplot at 0x1f109dd4f48>"
            ]
          },
          "metadata": {
            "tags": []
          },
          "execution_count": 383
        },
        {
          "output_type": "display_data",
          "data": {
            "image/png": "[encoded data removed]",
            "text/plain": [
              "<Figure size 432x288 with 1 Axes>"
            ]
          },
          "metadata": {
            "tags": []
          }
        }
      ]
    },
    {
      "cell_type": "code",
      "metadata": {
        "id": "YXd_bcR8f4Y8",
        "colab_type": "code",
        "colab": {},
        "outputId": "4f2e4422-d4c4-40bc-b5a2-f9682f6574d2"
      },
      "source": [
        "female_top_link_color = dt[dt['gender'] == 'female']['link_color'].value_counts().head(7)\n",
        "female_top_link_color_idx = female_top_link_color.index\n",
        "female_top_color = female_top_link_color_idx.values\n",
        "\n",
        "l = lambda x: '#'+x\n",
        "\n",
        "sns.set_style(\"whitegrid\", {\"axes.facecolor\": \"white\"})\n",
        "sns.barplot (x = female_top_link_color, y = female_top_link_color_idx, palette=list(map(l, female_top_color)))"
      ],
      "execution_count": null,
      "outputs": [
        {
          "output_type": "execute_result",
          "data": {
            "text/plain": [
              "<matplotlib.axes._subplots.AxesSubplot at 0x1f109b30308>"
            ]
          },
          "metadata": {
            "tags": []
          },
          "execution_count": 384
        },
        {
          "output_type": "display_data",
          "data": {
            "image/png": "[encoded data removed]",
            "text/plain": [
              "<Figure size 432x288 with 1 Axes>"
            ]
          },
          "metadata": {
            "tags": []
          }
        }
      ]
    },
    {
      "cell_type": "code",
      "metadata": {
        "id": "pWfI0CKKf4Y-",
        "colab_type": "code",
        "colab": {}
      },
      "source": [
        "Most common "
      ],
      "execution_count": null,
      "outputs": []
    },
    {
      "cell_type": "code",
      "metadata": {
        "id": "pfpijAaBf4ZA",
        "colab_type": "code",
        "colab": {},
        "outputId": "a3fbb3a2-15f7-47b7-b1e5-aca77215b175"
      },
      "source": [
        "import re\n",
        "def cleaning(s):\n",
        "    s = str(s)\n",
        "    s = s.lower()\n",
        "    s = re.sub('\\s\\W',' ',s)\n",
        "    s = re.sub('\\W,\\s',' ',s)\n",
        "    s = re.sub(r'[^\\w]', ' ', s)\n",
        "    s = re.sub(\"\\d+\", \"\", s)\n",
        "    s = re.sub('\\s+',' ',s)\n",
        "    s = re.sub('[!@#$_]', '', s)\n",
        "    s = s.replace(\"co\",\"\")\n",
        "    s = s.replace(\"https\",\"\")\n",
        "    s = s.replace(\",\",\"\")\n",
        "    s = s.replace(\"[\\w*\",\" \")\n",
        "    return s\n",
        "\n",
        "dt['tweets'] = [cleaning(s) for s in dt['text']]\n",
        "import nltk\n",
        "nltk.download('stopwords')\n",
        "from nltk.corpus import stopwords\n",
        "stop = set(stopwords.words('english'))\n",
        "dt['tweets'] = dt['tweets'].str.lower().str.split()\n",
        "dt['tweets'] = dt['tweets'].apply(lambda x : [item for item in x if item not in stop])"
      ],
      "execution_count": null,
      "outputs": [
        {
          "output_type": "stream",
          "text": [
            "[nltk_data] Downloading package stopwords to\n",
            "[nltk_data]     C:\\Users\\PC\\AppData\\Roaming\\nltk_data...\n",
            "[nltk_data]   Package stopwords is already up-to-date!\n"
          ],
          "name": "stderr"
        }
      ]
    },
    {
      "cell_type": "code",
      "metadata": {
        "id": "9c6cdoL1f4ZC",
        "colab_type": "code",
        "colab": {}
      },
      "source": [
        "Male = dt[dt['gender'] == 'male']\n",
        "Female = dt[dt['gender'] == 'female']\n",
        "Brand = dt[dt['gender'] == 'brand']\n",
        "Male_Words = pd.Series(' '.join(Male['tweets'].astype(str)).lower().split(\" \")).value_counts()[:20]\n",
        "Female_Words = pd.Series(' '.join(Female['tweets'].astype(str)).lower().split(\" \")).value_counts()[:20]\n",
        "Brand_words = pd.Series(' '.join(Brand['tweets'].astype(str)).lower().split(\" \")).value_counts()[:10]"
      ],
      "execution_count": null,
      "outputs": []
    },
    {
      "cell_type": "code",
      "metadata": {
        "id": "z7LydkAof4ZF",
        "colab_type": "code",
        "colab": {},
        "outputId": "05ac4aa2-63b5-48df-9136-b6e4a7987892"
      },
      "source": [
        "Female_Words"
      ],
      "execution_count": null,
      "outputs": [
        {
          "output_type": "execute_result",
          "data": {
            "text/plain": [
              "'ù',         884\n",
              "'like',      320\n",
              "'get',       271\n",
              "'one',       216\n",
              "'day',       214\n",
              "'ù']         206\n",
              "'go',        188\n",
              "'love',      184\n",
              "'û',         180\n",
              "'âù',        169\n",
              "'time',      160\n",
              "'amp',       155\n",
              "'people',    153\n",
              "'ü',         138\n",
              "'got',       136\n",
              "'know',      133\n",
              "'new',       124\n",
              "'best',      124\n",
              "'back',      122\n",
              "'still',     121\n",
              "dtype: int64"
            ]
          },
          "metadata": {
            "tags": []
          },
          "execution_count": 443
        }
      ]
    },
    {
      "cell_type": "code",
      "metadata": {
        "id": "2Hl35IKTf4ZH",
        "colab_type": "code",
        "colab": {},
        "outputId": "defae7bb-6f35-490e-9c4f-486f586c7a5c"
      },
      "source": [
        "#Getting a bargraph of most frequently used words by females\n",
        "Female_Words.plot(kind='bar',stacked=True, colormap='plasma')"
      ],
      "execution_count": null,
      "outputs": [
        {
          "output_type": "execute_result",
          "data": {
            "text/plain": [
              "<matplotlib.axes._subplots.AxesSubplot at 0x1f109b07148>"
            ]
          },
          "metadata": {
            "tags": []
          },
          "execution_count": 388
        },
        {
          "output_type": "display_data",
          "data": {
            "image/png": "[encoded data removed]",
            "text/plain": [
              "<Figure size 432x288 with 1 Axes>"
            ]
          },
          "metadata": {
            "tags": []
          }
        }
      ]
    },
    {
      "cell_type": "code",
      "metadata": {
        "id": "E-x2jw5nf4ZJ",
        "colab_type": "code",
        "colab": {},
        "outputId": "ae0b7d35-e33c-489e-eb5b-abe47d0bd717"
      },
      "source": [
        "Male_Words"
      ],
      "execution_count": null,
      "outputs": [
        {
          "output_type": "execute_result",
          "data": {
            "text/plain": [
              "'ù',         282\n",
              "'like',      246\n",
              "'get',       232\n",
              "'û',         173\n",
              "'time',      152\n",
              "'one',       152\n",
              "'new',       146\n",
              "'go',        134\n",
              "'love',      125\n",
              "'people',    120\n",
              "'back',      116\n",
              "'good',      114\n",
              "'amp',       113\n",
              "'see',       113\n",
              "'know',      107\n",
              "'got',       103\n",
              "'think',     103\n",
              "'best',      102\n",
              "'make',      101\n",
              "'day',       100\n",
              "dtype: int64"
            ]
          },
          "metadata": {
            "tags": []
          },
          "execution_count": 389
        }
      ]
    },
    {
      "cell_type": "code",
      "metadata": {
        "id": "9YdB9WFAf4ZK",
        "colab_type": "code",
        "colab": {},
        "outputId": "99576290-7c61-47c2-e180-ed69ebb67f6b"
      },
      "source": [
        "#Bar graph to deduce the most frequently used words by males\n",
        "Male_Words.plot(kind='bar',stacked=True, colormap='plasma')"
      ],
      "execution_count": null,
      "outputs": [
        {
          "output_type": "execute_result",
          "data": {
            "text/plain": [
              "<matplotlib.axes._subplots.AxesSubplot at 0x1f1099fd988>"
            ]
          },
          "metadata": {
            "tags": []
          },
          "execution_count": 390
        },
        {
          "output_type": "display_data",
          "data": {
            "image/png": "[encoded data removed]",
            "text/plain": [
              "<Figure size 432x288 with 1 Axes>"
            ]
          },
          "metadata": {
            "tags": []
          }
        }
      ]
    },
    {
      "cell_type": "code",
      "metadata": {
        "id": "FS_Fombif4ZM",
        "colab_type": "code",
        "colab": {},
        "outputId": "e12416a8-c59b-45f6-a1b9-32c7b1700492"
      },
      "source": [
        "print(\"Most used brand words:\")\n",
        "Brand_words"
      ],
      "execution_count": null,
      "outputs": [
        {
          "output_type": "stream",
          "text": [
            "Most used brand words:\n"
          ],
          "name": "stdout"
        },
        {
          "output_type": "execute_result",
          "data": {
            "text/plain": [
              "'weather',    1078\n",
              "['get',        553\n",
              "'updates',     542\n",
              "'channel']     537\n",
              "'û',           304\n",
              "'amp',         145\n",
              "'new',         139\n",
              "'us',          131\n",
              "'get',         103\n",
              "'via',          86\n",
              "dtype: int64"
            ]
          },
          "metadata": {
            "tags": []
          },
          "execution_count": 391
        }
      ]
    },
    {
      "cell_type": "code",
      "metadata": {
        "id": "qFSiHJs-f4ZQ",
        "colab_type": "code",
        "colab": {},
        "outputId": "f2beba17-4efa-4ae1-9504-84c0684c836c"
      },
      "source": [
        "Brand_words.plot(kind='bar',stacked=True, colormap='Paired')"
      ],
      "execution_count": null,
      "outputs": [
        {
          "output_type": "execute_result",
          "data": {
            "text/plain": [
              "<matplotlib.axes._subplots.AxesSubplot at 0x1f109a57588>"
            ]
          },
          "metadata": {
            "tags": []
          },
          "execution_count": 392
        },
        {
          "output_type": "display_data",
          "data": {
            "image/png": "[encoded data removed]",
            "text/plain": [
              "<Figure size 432x288 with 1 Axes>"
            ]
          },
          "metadata": {
            "tags": []
          }
        }
      ]
    },
    {
      "cell_type": "code",
      "metadata": {
        "id": "ba5EAvn-f4ZR",
        "colab_type": "code",
        "colab": {}
      },
      "source": [
        "from nltk.tokenize import TweetTokenizer\n",
        "from nltk.tokenize import word_tokenize\n",
        "from nltk.corpus import stopwords\n",
        "stop_words=stopwords.words('English')\n",
        "cleanText=[]\n",
        "cleanDescp=[]\n",
        "for i in range(dt.shape[0]):\n",
        "    current_message=dt['text'].values[i]\n",
        "    tok=word_tokenize(current_message)\n",
        "    cleanmsg=''\n",
        "    for word in tok:\n",
        "        if word not in stop_words:\n",
        "            cleanmsg=cleanmsg+word+' '\n",
        "    cleanText.append(cleanmsg)"
      ],
      "execution_count": null,
      "outputs": []
    },
    {
      "cell_type": "code",
      "metadata": {
        "id": "jLKZjiCif4ZT",
        "colab_type": "code",
        "colab": {},
        "outputId": "501ee2aa-cf66-4707-e14b-07a6058fa8bb"
      },
      "source": [
        "cleanText"
      ],
      "execution_count": null,
      "outputs": [
        {
          "output_type": "execute_result",
          "data": {
            "text/plain": [
              "['Robbie E Responds To Critics After Win Against Eddie Edwards In The # WorldTitleSeries https : //t.co/NSybBmVjKZ ',\n",
              " '\\x89ÛÏIt felt like friends I living story them\\x89Û\\x9d https : //t.co/arngE0YHNO # retired # IAN1 https : //t.co/CIzCANPQFz ',\n",
              " \"Hi @ JordanSpieth - Looking url - use @ IFTTT ? ! Do n't typically see advanced user @ PGATOUR ! https : //t.co/H68ou5PE9L \",\n",
              " 'Watching Neighbours Sky+ catching Neighbs ! ! Xxx _Ù÷Ä_Ù÷Ä_Ù÷Ä_ÙÔÎ_Ù\\x8fÈ_ÙÔ\\x8d_Ù\\x8fÈ Xxx ',\n",
              " 'Ive seen people train lamps , chairs , tvs etc https : //t.co/w6zf4pVM4I ',\n",
              " '@ BpackEngineer Thank patience take care issue ! ',\n",
              " \"Gala Bingo clubs bought å£241m : The UK 's largest High Street bingo operator , Gala , taken by\\x89Û_ https : //t.co/HzeeykJUd3 \",\n",
              " '@ _Aphmau_ pic defines mcd fangirls/fanboys mcd shippers xD ',\n",
              " '@ Evielady lovely tree year ! Never seen gorgeous # Autumn # colour ',\n",
              " 'MTG Deals 1x Rank-Up-Magic - The Seventh One - PRIO-EN058 - Secret Rare - Unlimi https : //t.co/Y22wyLpgnN https : //t.co/VwagxMNohB ',\n",
              " \"https : //t.co/z4sbWUugd8 What Nation Will Be Talking About After Wednesday 's GOP Debates https : //t.co/gIHIVyHF7G # business # \",\n",
              " \"https : //t.co/EROGWTFTYo It 's glow satisfaction The Glow https : //t.co/7RdyMCVPKx \",\n",
              " \"@ giannaaa28 lmao _Ù÷â_Ù÷â dude I 'm hella scared next episode bc ending yesterday 's \",\n",
              " \"@ coolyazzy94 Ditto - I 'm still learning favourites retweet stuff - least sucks less Facebook haha : P \",\n",
              " \"@ CaribBros @ JstSaleem I I n't understand get server get \",\n",
              " '@ CraftYear2015 @ isabelpascual thank retweets ',\n",
              " 'All girls went sleep guys sat floor watched us_Ù÷â_Ù÷â ',\n",
              " \"@ ChrisAOfficial I 'm right side_Ù÷â\\x89ÏÎ_Ù\\x8f_\\x95ü\\x8fxxx \",\n",
              " 'YALL LMFAOO RIGHT WHEN THE CHORUS CAME ON , A TEAR ROLLED DOWN HIS FACE https : //t.co/aYuQDPtvsE ',\n",
              " \"James Bond premier night @ Everymancinema Oxted @ SidiEdey . Let 's hope lives expectation ! # SPECTRE \",\n",
              " \"@ SydnieJR except Hallmark movies start I wo n't get anything done ! ! _Ù÷__Ù_\\x81_Ù_ã \",\n",
              " 'You leave group chat 2 mins miss made shit ',\n",
              " 'Reality Series \\x89Û÷Monica Medium\\x89Ûª Gets Season 2 ABC Family https : //t.co/Q62PP17sJe https : //t.co/GOHuoOHQky ',\n",
              " 'All # magic Hath No FURY based REAL # Magick ! https : //t.co/jwpsVhAU1E ',\n",
              " \"Me week Brandon 's birthday : 's thing birthday week u weirdo Me November 1st : 's birthday month , bow \",\n",
              " 'And got yards AND points Jets gave season . https : //t.co/gdfkaOxcDD ',\n",
              " \"Gala Bingo clubs bought å£241m : The UK 's largest High Street bingo operator , Gala , is\\x89Û_ https : //t.co/eXhmGLr869 https : //t.co/6xjB8Kxjis \",\n",
              " 'Did Alot Up In The Past Ion Wont Back ',\n",
              " \"Here 's @ sesamestreet 's Julia combat stigma associated # autism : https : //t.co/IdkJYk84Mk # ece \",\n",
              " 'This boy El wit 3 daughters 5 ',\n",
              " '@ Toastburglar @ wordwizard85 The trick making sure keep lungs inflated cushioning . ',\n",
              " \"@ TheRiddler109 @ CNN I mean 's like Mainstream new media supposed feed fact nowadays ... \",\n",
              " 'The Flash : New Look Danielle Panabaker Killer Frost \\x89ÛÒ https : //t.co/B1Icufq59H https : //t.co/M5ju9fXQv4 # HotNews # geekinitiative ',\n",
              " 'How many followers get everyday ? I got 1 last day . Growing daily https : //t.co/JzckR3ub8H ',\n",
              " '# dog walkers needed @ FetchPetCareChi South Loop Edgewater . Midday 11am-3pm # Chicago # jobs https : //t.co/z9HesUigwz ',\n",
              " '@ kbonimtetezi mheshimiwa travellers along stretch road ( lubao ) r hurting nobody seems raising issue ! ',\n",
              " \"Greenville Thursday . Yall holla need anything . Know I 'm plug \",\n",
              " '@ MarkHicks1204 I went wrong Nandos I found eventually # 10chilliesequalsfreenandos ',\n",
              " '@ AndyRobsonTips Cardiff drew 1.5 match goals sounds good ',\n",
              " 'Apple : The Great iPhone Unit Debate https : //t.co/YOruxSrKCE ',\n",
              " 'VIDEO : James Bond Spectre world premiere : After months build Spectre , latest\\x89Û_ https : //t.co/uV38Wlg5bE # UK ',\n",
              " 'Best thing audition west side able eat lunch Komodo ',\n",
              " 'Discipline bridge goals accomplishment . - Jim Rohn ',\n",
              " 'In last 20 minutes Wednesday fan tweeted us 3 times , , obsessed , even little bit _Ù÷â_Ù÷â_Ù÷â_Ù÷â_Ù÷â_Ù÷â_Ù÷â_Ù÷â_Ù÷â_Ù÷â_Ù÷â_Ù÷â_Ù÷â_Ù÷â_Ù÷â ',\n",
              " \"Gala Bingo clubs bought å£241m : The UK 's largest High Street bingo operator , Gala , taken by\\x89Û_ https : //t.co/WoQyHfIm61 \",\n",
              " 'Triggered Email : The Killer Conversion App https : //t.co/obCkhxkOm7 ',\n",
              " 'Do know awesome ? My 4 new followers last week ! Growing https : //t.co/iN3hLNli3g ',\n",
              " 'camerons side bed smells SO bad ',\n",
              " '@ wishbonecon u going 1.30 one ? ? ',\n",
              " '@ Hakeem_NLT Boii make wafflw link reference word count clear lol ',\n",
              " \"https : //t.co/nRN2mGLd2E Am I one loves part Merlin Regina 's face ? : D # OUAT \",\n",
              " 'The POLITICS evidence + results international development . https : //t.co/T7N2c2TTBf - Looks great . h/t @ duncan_ids @ rosalindeyben + ',\n",
              " 'Please God , let get house fireplace bedroom ! ! I great ideas room.. ',\n",
              " \"'s 8 % hidden.. UMPH . https : //t.co/OnebBSAG93 \",\n",
              " 'The CTAS Pro High colorway inspired sageelsesser available # MIAskateshop locations\\x89Û_ https : //t.co/yGz0K7nqso ',\n",
              " \"I swear touches one time . _Ù÷__Ù÷_ pisses . It 's stupid cause friends fall trick well _Ù÷Ô \",\n",
              " 'The Wildcats pay visit Fain elementary school ! https : //t.co/Xjx8GNyRhJ ',\n",
              " 'bad day office - nice catch @ thedjbrisk wish time catch x ',\n",
              " 'New Study Says Bacon Causes Cancer , But Internet Refuses Believe It https : //t.co/SNgYZFCG4b ',\n",
              " 'James Walter invented bolt-action rifle , liquor , sexual intercourse , football -- order . ',\n",
              " \"@ Lov3rzWorldwide Say He one . The eternal . He n't kids anyone Him . There nothing like The One . \",\n",
              " \"Now I Changed ! I 'm Man I Yesterday 's better watch & amp ; take notes \",\n",
              " 'Amazing : See Igbo Village In The United States OfåÊAmerica https : //t.co/Z8A95hAQpE https : //t.co/qdQ6HnE735 ',\n",
              " 'Join The Creative Group team ! See latest # BusinessMgmt # job opening : https : //t.co/X2YVPuRDy4 # TheCreativeGroup # NEWYORK , NY ',\n",
              " \"# Akinator , Genie App , guessed I thinking Katniss Everdeen 's Daughter # ? ? \",\n",
              " \"'30 Teams 30 Days ' NBA Season Preview , # 2 : Cleveland Cavaliers + Op-Ed About Legacy LeBron James https : //t.co/dYTW2sr9Gp \",\n",
              " \"If say someone like Wale Meek Wiz gotten big past five years 're moron . They big mixtape game . \",\n",
              " 'Move Of The Week Double Leg Stretch \\x89Û_ : https : //t.co/kxkCEFUxQB ... https : //t.co/n7PtOHGaPQ ',\n",
              " '# biz Import Veteran : The 6 tricks every importer must know order avoid getting ripped . https : //t.co/g2HVXx9Jf0 ',\n",
              " 'No Water To Frisco Subdivision : A contractor working area cut water line crews now\\x89Û_ https : //t.co/mvsXieKa21 # dallas # news ',\n",
              " 'Reimagining # webdesign process @ InVisionApp - https : //t.co/Vmb0OZU67e https : //t.co/hFlWR8tfOl ',\n",
              " '@ cringe_channel chris chan fame ',\n",
              " 'The accuracy though lol https : //t.co/frFforEeLC ',\n",
              " 'Im weakkkkk_Ù÷â_Ù÷â_Ù÷â_Ù÷â_Ù÷â Tbh thats way shut girls flex ',\n",
              " 'We got see inside # OARDC # greenhouses daytime , ! # AgCon # OSU @ visitoardcw https : //t.co/wb6BgiHc3g ',\n",
              " 'Thanks # ACA adults eligible # Medicaid # Illinois & amp ; able apply online . @ YoungInvincible https : //t.co/cfwlLqv4K9 ',\n",
              " \"IBMSocialBiz : In future , narrowing gap people 's abilities use tools proficiently . JenniferMcClure # H2HChat\\x89Û_ \",\n",
              " 'Chris Got On The Black Toe 1s _Ù÷_ ',\n",
              " '@ iampoojabalaji The day wedding anniversary ... Sucks suck ',\n",
              " \"Here 's equipment use run show ! https : //t.co/x6cCJG8SeX https : //t.co/A6N8HU1tlJ \",\n",
              " \"When 're 20 mins early advising appointment bitch goes 10 mins_Ù÷Ô \",\n",
              " 'https : //t.co/EROGWToizO Sissy\\x89Ûªs wife loved l Choosing Lingerie \\x89ÛÒ A Very Important Role For Sissy https : //t.co/sRf506OsHy ',\n",
              " \"@ paulmgardner @ cwellssun I knew guy military used n't show drug tests . \",\n",
              " \"My mom listening `` Hello '' 's happening world \",\n",
              " 'If ion work one job , I work . ',\n",
              " 'Lrt work allllllllllllllll time ! ! ! ! ! ',\n",
              " 'Flexible Diet Plan : Revealed first time , secret methods losing weight , without give up\\x89Û_ https : //t.co/yGQYYVCYKi ',\n",
              " \"needs intro pick phone 'CLIFFORD ELLIS , THE GREATEST BROCKER IN THE WORLD ' lmfao \",\n",
              " 'Fortune favors funny Guatemala election : https : //t.co/E1Qa16AweK https : //t.co/c8nvJn3VaN ',\n",
              " 'Women\\x89Ûªs soccer extends streak , stays atop conference : On rainy night Seattle , No . 4 Stanford women\\x89Ûªs\\x89Û_ https : //t.co/7WvyNZsgqa ',\n",
              " '@ megwacha Actually UC announcement seems like could related . ',\n",
              " 'On Air : Back To The Future - Alan Silvestri - # BackToTheFuture https : //t.co/rbWJRByxt1 ',\n",
              " 'Would \\x89Û÷The Affair\\x89Ûª Be Easier To Watch If The Kids Weren\\x89Ûªt Such Brats ? [ Spoilers ] : The Showtime series The Affa ... https : //t.co/o6jpVaUFdz ',\n",
              " 'NBD , This Comet Is Spewing Gallons Wine In Space : Scientists discovered comet Lovejoy spew ... https : //t.co/42Fa4wwoA1 ',\n",
              " 'Stats day arrived . 1 new unfollower . Stats via https : //t.co/VuMDKp70A7 . ',\n",
              " '# VivienLeigh Gone With The Wind Clark Gable Vivien Leigh # Photo https : //t.co/yVO2B34jrw # Film # Actress ',\n",
              " '# newark Hornell Football : Bringing back tradition https : //t.co/Red8ZEivVs ',\n",
              " 'good seeing tonight @ Caspar_Lee _Ù÷÷ enjoy film xx ',\n",
              " 'Photo : The Fellowship Ring : Book One Lord Rings\\x89Û_ : https : //t.co/4A1v5WdDd4 https : //t.co/Hyosq3fr5e ',\n",
              " 'Photo : Snow Queen - Vlad Barbe | Kids & amp ; Family |716822518 : The Snow Queen fairy tale Hans Christian ... https : //t.co/CC4qqNHvjY ',\n",
              " \"# business Gala Bingo clubs bought å£241m : The UK 's largest High Street bingo operator , Gala , taken over\\x89Û_ https : //t.co/UZ1WZEqeZg \",\n",
              " 'The world ( esp EqAnon island ) needs people like @ EQcompliments , @ HorseShowTutor , @ StudioOnWhitney , @ DejavuEq & amp ; @ AthleticEq # AmazingLadies ',\n",
              " \"@ bentorkington @ NZInlandRevenue ... n't bother KiwiSaver kickstart fund restored \",\n",
              " \"No matter results , words ca n't express proud I @ csunfasa ! All dedication new & amp ; old members gave left speechless ! \",\n",
              " 'Hello ... Nah ',\n",
              " \"`` Came game white rappers n't cliche '' @ classified spittin ' truth \",\n",
              " 'Dirtiest Players NFL https : //t.co/SdyNBeG69e ',\n",
              " 'This Wed The @ walrusmagazine Talks Cities # Migration # TRSM @ RyersonU . Get tickets : https : //t.co/kqAzWIMo8S ',\n",
              " '@ EVINELive yep wait next day ',\n",
              " 'For first time , @ AmerAcadPedsåÊis recommending pediatricians screen children food insecurity https : //t.co/6ETENmYVAo ',\n",
              " '\\x89ÛÏ @ thacelebritea Seen Scene : Spotted # RavenSymone earlier week [ r.p @ theybfdaily ] https : //t.co/sjNH93a0L3\\x89Û\\x9d \\x89÷¼\\x95ü\\x8f\\x89÷¼\\x95ü\\x8f\\x89÷¼\\x95ü\\x8f ',\n",
              " '@ justinbieber Too much swag Acoustic version . cool , kept silent makes laughter end vibratos lol _Ù÷\\x8d_Ù÷É ',\n",
              " 'Listen @ johnmdonnelly discussing exclusive reporting potentially fatal flaws # F35 ejector seat https : //t.co/rZ1BEKbY6P @ CQnow ',\n",
              " 'https : //t.co/SZAdbkG6Y9 & gt ; & gt ; Rangers Blue Line : Antti Raanta calls looking 6-2-2 Rangers https : //t.co/dXa3JypzQZ ',\n",
              " '@ BarCampPhilly @ FlipperPA Yes ! Would love throw hat couple local folks @ iQmediacorp . Happy arrange meet . ',\n",
              " \"@ rockdoves hes one 're missing \",\n",
              " 'We chance first time decades elect someone owned lobby groups big corporations . Or Saudi Arabia ',\n",
              " 'The Walking Dead 6ÌÑ04 Promo Season 6 Episode 4 Promo https : //t.co/ndyE1XzvDu # HotNews # geekinitiative ',\n",
              " \"Finally realized I 'll never get answers I want \",\n",
              " \"Gala Bingo clubs bought å£241m : The UK 's largest High Street bingo operator , Gala , taken by\\x89Û_ https : //t.co/X93A410ODN \",\n",
              " 'Starbucks Mobile Ordering Comes UK - Mobile Marketing https : //t.co/YeCugANJLy # emarketingmkt412 ',\n",
              " 'The little things always get heated ',\n",
              " 'Corporate welfare worst . Dark funds Military industrial complex another . All posts ... https : //t.co/awmdynzFxZ ',\n",
              " 'Rapper Tyga appear next season KUWTK Will Get $ 25k Per Appearance - See & gt ; & gt ; ... https : //t.co/b1Rw1LkjHG ',\n",
              " 'Next Xbox One Backwards-Compatible Game Revealed : This 2008 racing game latest join lineup . https : //t.co/H4QgKxg0sU ',\n",
              " \"@ JesseLaGreca @ DanteAtkins The lies & amp ; distortions led 2 today 's # GOP fringe political psychosis goes back 1979 # Reagan Campaign \",\n",
              " 'The one question made millionaire \\x89ÛÓ @ TheAllyWayInt via @ Entrepreneur https : //t.co/yR9HGtbwI5 https : //t.co/3Zyc0Hp3Dz ',\n",
              " '# Earth teach quiet ~ . . . grasses still new light . ',\n",
              " \"The `` Horse Screamer '' great style latest video . Get KRJ shirts site https : //t.co/HruprjSa0u \",\n",
              " 'Dictators favorite drinks https : //t.co/d2WZOc7Yzq ',\n",
              " 'The Fully Expected Yet Oddly Reassuring Return Tanner Fischbach : `` I think voters Cuyahoga County are\\x89Û_ https : //t.co/VMek8FHdb6 ',\n",
              " \"Nothing like midwest . Had great weekend The Ruffin 's wedding . Im glad came together\\x89Û_ https : //t.co/DrK2UkEKxV \",\n",
              " 'Take back time clothes took drawers ',\n",
              " \"@ ell_morton face timed like 5 mins ago 're @ airport Dallas , getting plane 2 hours . They 're okay _Ù÷É_Ù÷É \",\n",
              " '# biz Holiday Candy Course : Learn art gourmet candy making make gourmet chocolates kitchen ! https : //t.co/rvklKD2m7h ',\n",
              " \"Tonight 'll stop 300 randomly selected homes short survey . The survey required grant ... https : //t.co/YhJrPLiCC6 \",\n",
              " 'The woes_Ù÷__Ù_÷_ÙÕâ https : //t.co/CXWHx6DTgW ',\n",
              " 'ISIS Launches BIZARRE New Weapon In War Against The Infidel \\x89_Ê FLOATING CONDOM BOMBS ( Video ) | BB4SP https : //t.co/e6htn17yFN ',\n",
              " 'Too excited spend Halloween night PIT @ sigmonmakenzie & amp ; @ ChrisYoungMusic _Ù\\x8dÈ_Ù__ ',\n",
              " '1 amazing follower last week tomorrow . Growing https : //t.co/MIjN2Phyly ',\n",
              " 'Drugs , greed , kidnapping plague Dani Liz - Bluewater Ganja , 9th Bluewater Thrillers # IAN1 # sailing https : //t.co/60BrKidlAP ',\n",
              " 'Penn Jillette\\x89Ûªs atheist fundraiser : Bacon , skepticism Trump side : Gaining\\x89Û_ https : //t.co/6heNyHydAd # Vegas https : //t.co/Ug8Z228z2X ',\n",
              " 'MT @ nytimesarts : The longest-running play America set open NYC 1st time https : //t.co/65oIQVi9M8 https : //t.co/6WIFY90anM ',\n",
              " '# VoteOneDirection @ onedirection # AMAs Artist Of The Year https : //t.co/pnDV9MyCVY ',\n",
              " \"Gala Bingo clubs bought å£241m : The UK 's largest High Street bingo operator , Gala , taken by\\x89Û_ https : //t.co/0MJDQuiRIc \",\n",
              " 'Alysha half mom half worlds greatest friend group ',\n",
              " 'Join us day # JFNAGA Mon 11/9 ! Return transport Washington D.C. Reserve place https : //t.co/L2NIsXweYL # PHILLYga ',\n",
              " 'The One You Fall In Love With You Should Feel Like Nothin Else Matters.. # Fr ',\n",
              " \"Gala Bingo clubs bought å£241m : The UK 's largest High Street bingo operator , Gala , is\\x89Û_ https : //t.co/XzzqL9wNL7 https : //t.co/CdtBn0hjMi \",\n",
              " 'Lana\\x89Ûªs back swing things : REJECTED Bachelor star Lana Jeavons-Fellows living single life , \\x89Û_ https : //t.co/gtT2FkO6cP ',\n",
              " 'The power 3D printing save lives . https : //t.co/RZfvBfg9FW ',\n",
              " 'The # fate Europe\\x89Ûªs net neutrality decided tomorrow https : //t.co/zgqa8d49qX https : //t.co/5Qk8zDNPQq ',\n",
              " 'got job _Ù÷Ä ',\n",
              " 'Selling # Recruiting Process Isn\\x89Ûªt Gamble - https : //t.co/Qbsl8ix3dy # HR # TheCandEs # TChat # HRTechConf ',\n",
              " 'I bought tickets Post War Glamour Girls The Cookie , Leicester https : //t.co/BP7THGHF37 ! https : //t.co/efU07V6cN3 via @ ents24 ',\n",
              " '@ crowmatriarchy @ suzuyin @ breadfuck The likeness face purely disgusting . I mean , honestly . Look mirror mor ',\n",
              " 'The Role Hippocampus Long-term Memory https : //t.co/SRCXtbYrMC ',\n",
              " '720p option best ',\n",
              " '# ArtistOfTheYear @ onedirection # AMAs From four albums heard MM fav could changed rly fast I hear fift ',\n",
              " 'Fantastic launch @ Snapdeal All apps run smoothly OnePlus One thanks quad core processor ! https : //t.co/2yMa7R3PcU 4742 ',\n",
              " '7 new unfollowers 5 new followers ( hello ! hello ! ) last week . Via https : //t.co/WL2CRq09dV ',\n",
              " 'Except couple broken plays , Jets really good job countering New England well O exploiting D weaknesses ',\n",
              " 'Look Ken Barlow putting Audrey Roberts old rascal ! ',\n",
              " 'Wickenburg man arrested suspicion bestiality : Sheriff\\x89Ûªs officials said suspect offered undercover\\x89Û_ https : //t.co/9XszaMjGik ',\n",
              " 'Be In The Lookout ! ! ! _ÙÔà_ÙÔà_ÙÔà https : //t.co/dfZqv6Kjbh ',\n",
              " \"@ tombertram91 NO WAY ! You 're going opening act , n't ? ! \",\n",
              " \"@ NBA Im hyped bc im excited new season play offs ! And 's team win 'll star ! _Ù\\x8fÛ # ThisIsWhyWePlay # Sweepstakes \",\n",
              " 'The best times , worst times Marianas Trench singer : Marianas Trench singer songwriter Josh Ramsay\\x89Û_ https : //t.co/0GOYfEREpC ',\n",
              " 'Photo : The chronicles Emerland . Solitaire . Games Adventure Mac App ***** $ 4 . \\x89Û_ : https : //t.co/xCJnfYaPvw https : //t.co/jRlgh3fNSg ',\n",
              " 'Looney For Looms Knitting Patterns : Loom Patterns For Sweaters For The Baby , Toddler & amp ; Small Dog . There Are\\x89Û_ https : //t.co/XjQoPSopb7 ',\n",
              " \"Coming worst attitude I 'm trying help _Ù÷Õ \",\n",
              " 'Hot presses ! https : //t.co/fZK5fjSWEJ ',\n",
              " '@ stloto update use site ? ',\n",
              " \"Gala Bingo clubs bought å£241m : The UK 's largest High Street bingo operator , Gala , taken by\\x89Û_ https : //t.co/LaRDoMBRXT \",\n",
              " 'Thanks @ WinkMartindale shout ! I\\x89Ûªm looking pretty good 75 ! # FamousName https : //t.co/UMrFosWY0u ',\n",
              " \"also steven 's interviews ? emily 7 million beth died & amp ; actors afterwards \",\n",
              " '@ bethneilson12 happy birthday Beth ! ! Hope best day _ÙÕÏ_ÙÕÏ_ÙÕÏ_ÙÕÏ ',\n",
              " 'This still sweetest thing ever . And two made night . https : //t.co/Nms52Uverj ',\n",
              " '@ SavageJaspy I like purple seem green person ? ',\n",
              " 'Attorney : Woman arrested crashing homecoming crowd mentally ill : The attorney woman crashed\\x89Û_ https : //t.co/Na00EhG4fs ',\n",
              " 'The Decisions We Make Today Will Shape Tomorrow https : //t.co/bXP2LWiuPU https : //t.co/eoiy0nDEDu ',\n",
              " \"kid 's party ones getting fun balloons . never take any\\x89Û_ https : //t.co/0mtdf9CmGr \",\n",
              " \"Gala Bingo clubs bought å£241m : The UK 's largest High Street bingo operator , Gala , taken by\\x89Û_ https : //t.co/R1ox8UuWPM \",\n",
              " 'Now , already one . Appreciate well . ',\n",
              " 'https : //t.co/pYc0uzbOA0 & gt ; & gt ; Toronto Maple Leafs : Polak Holding Back The Defense https : //t.co/Cp1OgRPaAM ',\n",
              " \"Keylor Navas n't superstar Real Madrid want one goal , says top Spanish journalist https : //t.co/406P6p7l7i https : //t.co/72fr6A41Yx \",\n",
              " \"Via Jewish Voice Peace `` Analysis `` racist , blame-the-victim '' arguments `` dehumanize Palestinians ... https : //t.co/fTKu2RMQN1 \",\n",
              " 'Congrats ! ! ! Enjoy GC new phone ! ! ! @ thedomesticexec @ dmthoma # TreatYourFamily ',\n",
              " 'If game tonight hit 39 total points , 11 $ 5 scratch offs coming way ',\n",
              " \"Gala Bingo clubs bought å£241m : The UK 's largest High Street bingo operator , Gala , taken by\\x89Û_ https : //t.co/T7UOjvQqjT \",\n",
              " '@ JoseFranco_ daily caller always wins contest quickly take joking tweets entirely seriously ',\n",
              " '@ onedirection Artist Year # AMAs https : //t.co/DsjN39Gzs1 ',\n",
              " \"@ RIGHTWERK @ musicnews_facts n't one hated dude wearing suit \",\n",
              " 'Remember esteban calling dead got put hold https : //t.co/XJ1Tjd8d5z ',\n",
              " 'Overall : good performance , clean sheet , better team 2nd half , solid result given circumstances , happy LOSE derby # mufc ',\n",
              " '@ CineBroughton 1 hour # SPECTRE red bull ready # 007 ',\n",
              " 'Do americans find weird eat fries mayo cos time ',\n",
              " 'This day history : Today Monday Oct 26 299th day 2015 There 66 days left yearTodayrsquos\\x89Û_ https : //t.co/aPbwTetkxg ',\n",
              " 'Thanks DJ Polish Sausage follow ! ',\n",
              " 'A sample fall colors encountered day hike Mount LeConte . This picture was\\x89Û_ https : //t.co/qlz7fookM4 ',\n",
              " 'When u find ur advisor put u wrong classes semester ur year behind _ÙªÄ ',\n",
              " \"I 'm loving harrypotter Sky channel \\x89Ï¬_ÙÓ¨ \",\n",
              " 'Day Colorado wolf man working fitness . Hitting SLC tomorrow ! https : //t.co/0PrvCnA8eA ',\n",
              " '@ FitStar I sent DM describing issue email address associated account . ',\n",
              " \"Last week teacher said going HBCU n't give accurate perception world like I 'm still \",\n",
              " 'ican turn side side damn bed w/o havin sit way ! ',\n",
              " 'Jason Peters good go Eagles start training next Tuesday . # FlyEaglesFly https : //t.co/wvUzDZQGav ',\n",
              " \"@ mdeedoubleyou fact I miss much makes want cry . I 'm dropping I move Cali . \\x89Ïö\\x95ü\\x8f \",\n",
              " 'Rose play without minutes restriction season opener : The Chicago Bulls open new era coach F ... https : //t.co/6ec5nDJw9W ',\n",
              " 'Holiday Candy Course : Learn art gourmet candy making make gourmet chocolates kitchen ! https : //t.co/j1BKKeIqBA ',\n",
              " 'Starting like new Conner family little # CoronationStreet ',\n",
              " 'Colt ! Be sure Nicole & amp ; Colt Edwards group ! 10/27 start fun games Release RECKLESS ! ... ',\n",
              " '1 new unfollower last day . Via https : //t.co/K1SASMDLEB ',\n",
              " \"On positive side , I 'm learning butthurt crap like I tweeted . # imstillpathetic lol \",\n",
              " '\\x89ÛÏThat\\x89Ûªs way drop em\\x89Û\\x9d - # BigTits # Boobs # Tits - https : //t.co/Wv3mjvXxd2 https : //t.co/H8p2ExMWqX ',\n",
              " \"When I 'm working & amp ; I 'm exhausted I feel like breaking sec listening Hall Of Fame always gives kick I need go on_ÙÕ » _Ù\\x8f_ \",\n",
              " '# Mens # Shirt # BreakingBad WALT `` I AM THE DANGER WHITE # Tshirt SIZE : MEDIUM **NEW** https : //t.co/Ds5Zl3iODk # Bestseller # Auction ',\n",
              " 'FBI Director Says Videos , Hashtags Are Worsening The Citizen-Police Divide - Huffington Post https : //t.co/fT68NPIQqb ',\n",
              " \"Gala Bingo clubs bought å£241m : The UK 's largest High Street bingo operator , Gala , taken by\\x89Û_ https : //t.co/gWgpmsMmIs \",\n",
              " 'Literally looking old songs rest day ',\n",
              " 'The Flash Episode 2.03 Recap \\x89ÛÒ https : //t.co/sqY1zCEwQ9 https : //t.co/FnXkQXVoYc # HotNews # geekinitiative ',\n",
              " '@ PrestigeDiesels Yeah ... I nail mat floor ! @ LeahRebeccaUK ',\n",
              " 'The ADA . How regulation affect office ? # askHCSI https : //t.co/i3CLomKeMd ',\n",
              " '@ KAtheIntellect easy af left pencil huh lol ',\n",
              " 'Would \\x89Û÷The Affair\\x89Ûª Be Easier To Watch If The Kids Weren\\x89Ûªt Such Brats ? [ Spoilers ] : The Showtime series The Affa ... https : //t.co/PZU4G93AdO ',\n",
              " '@ maxschrems check work \\x89ÛÏconsent receipt\\x89Û\\x9d safe harbour via consent analysis https : //t.co/R5ShghCSxe ',\n",
              " 'Im never goin find right girl ',\n",
              " \"@ scotthoying `` WE COULD BE KINGS OF THE WORLD '' _Ù÷__Ù÷__Ù÷_ \",\n",
              " '@ D_BBach Yes . They bad last night , Bradford also 2nd-worst off-target % NFL . Goes ways . ',\n",
              " '# massimolandi # newyork # newyorkcity # nyc The Wall Street Bull # economia # economics https : //t.co/0rqkG8q5AB ',\n",
              " \"hi @ Harry_Styles , thank nice . 're fave art even best artist could n't draw \\x89ªÁ \\x89ÑÎ . follow , please ? \\x89ÛÓ79,605 \",\n",
              " 'Quad half kills start round ! 27/6 block party . Play pc ? Slip my\\x89Û_ https : //t.co/fecWouEcfU ',\n",
              " 'Lets forget running backs too..if even stop pass game . They pretty skilled lineman fullback.. BRUH ',\n",
              " 'Borland-Groover brings fight BCBS onto publicåÊstage https : //t.co/07spmHDa1m ',\n",
              " \"Gala Bingo clubs bought å£241m : The UK 's largest High Street bingo operator , Gala , taken by\\x89Û_ https : //t.co/GQGmJ0mXgh \",\n",
              " 'I want new old ... I want F5 ... want rehaul ... I want Vanneka wants ',\n",
              " 'Burnout Paradise confirmed playable Xbox One : Burnout Paradise , fifth entry racing game series , \\x89Û_ https : //t.co/ey6Cf2EHyf ',\n",
              " 'Wondering grow twitter ? I gained 107 followers past week . This app : https : //t.co/eUCGj9sjxk ',\n",
              " 'Photo : Elite Squad : The Enemy Within - JosÌ© Padilha | Action & amp ; Adventure |490521733 : Elite Squad 2 ... https : //t.co/hajijeG0OJ ',\n",
              " 'I finished htgawm much revealed last 3 minutes I think dying ',\n",
              " 'What happens # Vegas : The 7 # drinks find # theStrip . https : //t.co/A2HvatoeW5 ',\n",
              " \"Triton men 's golf shoots 306 opening round McDonough Cup . They 're back course second round right . \",\n",
              " 'Side nikka year _Ù÷_ ',\n",
              " \"@ NEFL_Steelers Just 1 drafted 5 OLine , 3 TE 's Lacy . No one able stop run ! _Ù÷â \",\n",
              " 'Review : \\x89Û÷Notorious RBG : The Life Times Ruth Bader Ginsburg\\x89Ûª https : //t.co/0bE9eXEs0R ',\n",
              " 'Im huge fan Patriots , ignorant ',\n",
              " 'Leonardo DaVinci~ Just iron rusts disuse even inaction spoil intellect . ',\n",
              " 'Photo : The Future Internet - Stanford Continuing Studies Program | Computer Science |384229952 : The ... https : //t.co/ob6PlWD3du ',\n",
              " 'Photo : Persian Circle - The University Chicago | Middle Eastern Studies |391212381 : Persian Circle The ... https : //t.co/TSBvgrT7eP ',\n",
              " 'View From The West Stand pretty much going write play Staines . Perfect draw . # lofc ',\n",
              " '1 new tweep followed last day . I find relevant people follow # CopyFollowers feature https : //t.co/wtKUZZJHZ0 ',\n",
              " '@ DWTS360 interesting . Thanks read . _ÙÔ\\x8f https : //t.co/Uw9VNuzw91 ',\n",
              " 'Take shoes come charming little gem tucked away heart Dartmouth ! This ... https : //t.co/V0Kp4xgXwY ',\n",
              " \"`` All computer hacking techniques described real . '' SOCIAL ENGINEER currently # FREE https : //t.co/RctWv97BPy # kindle # mystery \",\n",
              " 'Put away plain style order greenpoison : afnxWKG ',\n",
              " 'Miss snow Levi , FIS inspection ten days : Ten days check FIS white spots but\\x89Û_ https : //t.co/C3EjYR4IQS ',\n",
              " '# nowplaying Death Grips - I Break Mirrors With My Face In The United States https : //t.co/X4cFxWzlMA ',\n",
              " 'Thanks Vincent R. Photog follow ! ',\n",
              " 'Photo : # raabs-an-der-thaya Holiday Waldviertel raabs-an-der-thaya Raabs der \\x89Û_ : ... https : //t.co/b7p6zbmh1P ',\n",
              " '@ LikeImTayha IGht got dm credits thing hold real quick driving real quick got log bmi ',\n",
              " 'Dharma Bums . Better On The Road ... making bold statements today . So brave . https : //t.co/Riy6HPzvdD ',\n",
              " \"Following # WWEHIAC ahead # RAW tonight , 's I 'd book @ WWEBrayWyatt monster Wrestlemania 32 https : //t.co/HZAOQcVSm8 \",\n",
              " 'For best vpn exponent order crew wants : OcQGIh ',\n",
              " 'Stars join royals Spectre premiere : The stars new James Bond film Spectre join Duke Duchess ... https : //t.co/gJT57ieLzY ',\n",
              " 'https : //t.co/1yq5cEd08Q One greatest unsolved mysteries time ! # TheZodiacKiller . https : //t.co/m92qFzEMhY ',\n",
              " 'Listen : @ harry_square - The Pig Hunter ( @ burakandemre Rmx ) # RenaissancePodcast 22/10/15 https : //t.co/BS9DfvBpiv # dj # EDM # madeinitaly ',\n",
              " 'I added video @ YouTube playlist https : //t.co/jtVSol8JK0 JEM REACTS - new Jem And The Holograms Trailer ',\n",
              " 'Seems though someone something works . https : //t.co/bcCWHS3xBd ',\n",
              " 'Get outdo c preliminaries turn needs : Stpikn ',\n",
              " '@ Samd96 listen Christmas carols whole way ',\n",
              " \"Grimes shares 'Flesh Without Blood / Life Vivid Dream ' : https : //t.co/nddFdIoG0E \",\n",
              " '@ Harley_B_X THE LITTLE SMILEY FACE ',\n",
              " 'This day history : Today Monday Oct 26 299th day 2015 There 66 days left yearTodayrsquos\\x89Û_ https : //t.co/MNVz59V2BQ ',\n",
              " '@ Sheeb_ @ moni_2698 PEEP ME IN THE BACK ',\n",
              " 'Decorating Fall # srhsnj # halloween https : //t.co/lBeT6Rdv5B ',\n",
              " 'Toolz Looks Flawless As She Arrives LA Ahead Of The BET Awards See ... https : //t.co/pUplZPxjHD ',\n",
              " \"# mcg # cmk movement fr ' stop fake claiming yall ai n't gang _ÙÕø\\x89Ý_\\x95ü\\x8f_ÙÉ¡_Ù Ð \",\n",
              " 'The one question made millionaire \\x89ÛÓ @ TheAllyWayInt via @ Entrepreneur https : //t.co/7ryL3yAEhh https : //t.co/FKvfN8zKpD ',\n",
              " \"wish '' @ Valkyrie_Law : Um sure feeling mutual lol https : //t.co/0N0oHZ2bxl '' \",\n",
              " 'https : //t.co/Ff1iMPK335 One greatest unsolved mysteries time ! # TheZodiacKiller . https : //t.co/ZtYpDRvu7E ',\n",
              " \"You 'll pull back man says line woman dissing n't care : -/ \",\n",
              " 'Happy Happy Happy belated Birthday one # DirtyDonnieDamnit Kristian Bruun ! ! ! @ thebruun\\x89Û_ https : //t.co/53iDwuehee ',\n",
              " '@ 4allthingsnice I actually going make calendar cat pics I time Greece . I many . : ) # travelpics ',\n",
              " '12 weeks day since I one best days @ dickiewelch . It absolutely 3 months next time . _Ù÷Ó ',\n",
              " 'Triggered Email : The Killer Conversion App : Marketers using \\x89ÛÏspray pray\\x89Û\\x9d tactics decades . Th ... https : //t.co/nyxhRMML2P ',\n",
              " \"@ Moratwe_ lol , 'll hit low notes _Ù÷â_Ù÷â \",\n",
              " 'https : //t.co/qidHIp7tZl One greatest unsolved mysteries time ! # TheZodiacKiller . https : //t.co/AlTtzU5iTV ',\n",
              " 'The badass car date https : //t.co/Ki4dD1Va8W ',\n",
              " '@ omiqbu At present , email account/domain required verify eligibility . We much appreciate understanding . ',\n",
              " 'The revelation mp3 pugilist yet whichever order attend since continuity buy conjoint : : mbcQOVo ',\n",
              " '@ MosDef____ @ FamousAss_Cj go one Clinton . ',\n",
              " 'Photo : The News Lake Wobegon Prairie Home Companion , August 28 , 2010 - Garrison Keillor | \\x89Û_ : ... https : //t.co/ZFMmFx0SX6 ',\n",
              " '@ kjinwoos tru tbh left pretty much reason ppl either like ? ? ? ',\n",
              " \"Remember time wanted us race Mexico police pulled ... You decided burn face 'd chase ... \",\n",
              " 'I liked @ YouTube video https : //t.co/up1wGjyapP Artists Reveal Satanic Industry ',\n",
              " 'The Most Likely Next President Is Hillary Clinton https : //t.co/nozHcHFmZy ',\n",
              " 'Flying Nevada ( Las Vegas ) check latest hotel offers see https : //t.co/2JNDYioiTx # ukflights ',\n",
              " 'Photo : The Case Christ - Lee Strobel | Christianity |387706792 : The Case Christ Lee Strobel Genre : ... https : //t.co/N6uegh0ENm ',\n",
              " 'The rest workers hating cause I chill listen music . Lol ',\n",
              " \"@ MJsDirtyDiana person 's fear outcome stops actions words ? \",\n",
              " \"The @ FellowesHighSch Falcons sr. girls trouble getting started # UOVHSAA b-ball vs St. Joe 's . https : //t.co/Lg6a5xrFze \",\n",
              " \"@ MattUKTweets let 's honest went average working class college 'd tell piss . \",\n",
              " 'https : //t.co/hnjys7dSMD One greatest unsolved mysteries time ! # TheZodiacKiller . https : //t.co/JhwxguCzvs ',\n",
              " 'https : //t.co/hgPOlLvMFQ One greatest unsolved mysteries time ! # TheZodiacKiller . https : //t.co/2erxlC1Ubw ',\n",
              " '. @ Drake 1st artist sell # Platinum album released 2015 . Sign times . https : //t.co/MyegNZtynJ https : //t.co/UzCiIRWwJT ',\n",
              " 'We Got News : Just Yesterday The Department Of Transportation Has Installed Speeding Cameras ( Operated During ... https : //t.co/h1Mnu7HQMp ',\n",
              " 'Norwalk Church Initiates Urban Ministry : The Grace Brethren Church , Norwalk , Calif. , focused reaching ne ... https : //t.co/TiWrOtIuJE ',\n",
              " '@ elliexcastle Fuck , stick weeknd repeat_Ù÷â ',\n",
              " 'Photo : The Graveyard Book ( Unabridged ) - Neil Gaiman | Kids & amp ; Young Adults |292061896 : Neil Richard Gaiman ... https : //t.co/xMbPwuv7ux ',\n",
              " 'Justin Trudeau : Elizabeth May Minister Environment - Sign Petition ! https : //t.co/Jt295WsVVI via @ CdnChange ',\n",
              " 'This would day permanent Valencia filter face would come handy ... _Ù÷_ yiza # nosleep ',\n",
              " 'A 3D Touch-capable app answers age-old question : Which one plums biggest ! https : //t.co/KcipTDjZm1 https : //t.co/3pd3O1kFfe ',\n",
              " 'A Flash Light : The Photographs E.J . Kelty - Will Kelty | Classics |808897125 - See Kelty ( company ) ... https : //t.co/U145nW3k7I ',\n",
              " '\\x89Û÷Apps Are Future TV\\x89Ûª ? Not So Fast ! - https : //t.co/fi8QNCByP3 https : //t.co/086UoM6zIN ',\n",
              " \"Just agree custody real dad leave kids alone . He n't clean long enough . # DrPhil # CustodyDrama \",\n",
              " 'Cant wait Wednesdays game ',\n",
              " 'https : //t.co/cSFrMdI93i One greatest unsolved mysteries time ! # TheZodiacKiller . https : //t.co/OTmkSWavhY ',\n",
              " 'https : //t.co/MYcgB2HeFY One greatest unsolved mysteries time ! # TheZodiacKiller . https : //t.co/DGVVP72ncn ',\n",
              " 'https : //t.co/4UOZVPSSSr One greatest unsolved mysteries time ! # TheZodiacKiller . https : //t.co/rEqzXIzbf3 ',\n",
              " 'https : //t.co/SiLSEuvXeA One greatest unsolved mysteries time ! # TheZodiacKiller . https : //t.co/w6jtUDVBC5 ',\n",
              " 'Photo : Hover Disc 2 - The Essential Multiplayer Game Games Family iPad App ***** $ 0 . \\x89Û_ : ... https : //t.co/piTapsTzbj ',\n",
              " \"Why colour dying adverts always young women saying `` see grey hairs '' Who hell grey hairs age anyways ! \",\n",
              " 'Number crunching past day - 1 new follower NO unfollowers . Stats via https : //t.co/Ka95HBPNQx ',\n",
              " \"If n't ask try , answer always . \",\n",
              " 'https : //t.co/Hbc1YMqfpi One greatest unsolved mysteries time ! # TheZodiacKiller . https : //t.co/igfogKUREq ',\n",
              " '# Aerospace # news Experts split likely Long-Range Strike Bomber winner : The US Air Force poised delive ... https : //t.co/a8dOT9cX2q ',\n",
              " 'What I would given underground club scene 90s ',\n",
              " 'Number crunching past day - 1 new follower NO unfollowers . Stats via https : //t.co/EloPDBfe8b ',\n",
              " 'Girl month _Ù÷à https : //t.co/pF6nQgvq1Z ',\n",
              " '@ ZBierband YO ZBB , played last seasonal gig St. Jude . Good times . Remember drink , better sound ! ',\n",
              " 'Tvs scooty quintessential featured two wheeler : jpTsx ',\n",
              " 'Grimes - Flesh Without Blood / Life Vivid Dream : https : //t.co/zZnuvc2zkL ',\n",
              " '\\x89Û÷Arrow\\x89Ûª \\x89ÛÒ \\x89Û÷The Flash\\x89Ûª Crossover Episodes Will Feature A Scene With Nine \\x89Û_ \\x89ÛÒ Design & amp ; Trend https : //t.co/kzNaXxsJUk # HotNews # geekinitiative ',\n",
              " \"I fantastic day today trial Stacie ! I really ca n't wait see wedding come ... https : //t.co/mbqEJ6Y5ND \",\n",
              " 'The 118 carcinogens identified World Health Organization https : //t.co/spqRsGULXV ',\n",
              " 'We need members help Miami Sr. Homecoming poster . If able help , interested helping , need event , let us know . ',\n",
              " 'I wish real world , would stop hassling . ',\n",
              " '@ TheSmithMinute I Googled . The gum looks like big white sheets paper ! ',\n",
              " 'The Right Place raises $ 2M mobile care coordination , patient placement tool https : //t.co/a34GcxQLwt ',\n",
              " 'Dia de los Muertos brings culture , spirituality Halloween season - The\\x89Û_ https : //t.co/KwOWP0aKuQ # spirituality ',\n",
              " '10 best cities female entrepreneurs - WPTZ The Champlain Valley https : //t.co/7HO8fSUAMG ',\n",
              " 'Wheres 8th man ? @ Knickfan_4life ',\n",
              " \"I hope Pierre Neuville wins # wsop ME . love way stands like 's waiting guy busted high five . \",\n",
              " 'Pa . Lawmakers Consider Slots Play At Airports : State lawmakers today held hearing idea allowing slots\\x89Û_ https : //t.co/UtnSTWoInX ',\n",
              " 'Why grimy & amp ; count apple streams dear : ( ',\n",
              " '@ Chai_Poole_xox The boys performing Fireworks night Rodney Parade https : //t.co/6NlbKe7sX4 ',\n",
              " 'Fall across street . \\x89÷\\x81\\x95ü\\x8f_Ù\\x8d\\x81_Ù\\x8dâ https : //t.co/CALsfk3RNL ',\n",
              " '_Ù_Ä_Ù_Ä_Ù_Ä // Our favorite little boy @ ponchikproblems Kitson Joggers pumpkin patch ! \\x89Û_ https : //t.co/AEf5tWGnQu ',\n",
              " 'Due expected rain , Princeton football play host 7 p.m. Thursday , Oct. 29 Pittsburg Senior Night ... https : //t.co/4Y4t9C4A5R ',\n",
              " 'TOTAL FAIL ! The Funniest People Walmart https : //t.co/vEz50al3V8 https : //t.co/KqdI1u8WEI ',\n",
              " \"Gala Bingo clubs bought å£241m : The UK 's largest High Street bingo operator , Gala , taken by\\x89Û_ https : //t.co/Eay0dLiZ6n \",\n",
              " 'New Castle man accused stabbing daughter fight anti-freeze : The suspect grandson reportedly\\x89Û_ https : //t.co/Q05uwx7LYm ',\n",
              " \"`` disseminated express consent parties involved obtained . '' \",\n",
              " 'So grateful love story Tate + Kelsey ! Watch get Monday inspiration ! https : //t.co/f7QSSyrm0S ',\n",
              " \"CONFIRMATION : Of # Shrewsbury Town 's # FACup First Round Proper tie @ GainsTrinityFC : https : //t.co/aQXoXACFp0 https : //t.co/UvQesUtsB9 \",\n",
              " 'How find right lipstick suit skin tone : Style School https : //t.co/oMhCqZJlor ',\n",
              " 'During game honor local heroes celebrate First Responders Night , presented Safelite Auto Glass . ',\n",
              " \"@ ACroasdell really like answer oncers ! 're amazing ! \",\n",
              " 'The Taming Queen ( Unabridged ) - Philippa Gregory | Romance |1023481763 - Philippa Gregory ( Kenya , 9 ... https : //t.co/dMy1uVct7I ',\n",
              " 'Let boy live _Ù÷â https : //t.co/ghNmaHzRpk ',\n",
              " '6 Ways Wish Gateway Arch Happy 50th Birthday For $ 1 Less : There plenty ways celebrate this\\x89Û_ https : //t.co/dR5VcrQATx ',\n",
              " 'Yeah work move_ÙÕÛ ',\n",
              " 'Good luck @ CalvertHallVB team take BL today @ miaaathletics volleyball quarterfinals . ',\n",
              " 'Chilling @ CubeCraftGames selfie area ; ) Been sweating EggWars day ! # bestgamemodever https : //t.co/2a7jBOZEnr ',\n",
              " 'What winter version yamaka ',\n",
              " '@ Thomo_Grant situation many times big clubs play twice . # _ÙÕµ ',\n",
              " 'Thanks retweets week @ SovereignPlc @ Adfresco_Print much appreciated ! ',\n",
              " 'jk . im angry time . hint never hang guys ',\n",
              " '@ Katsuraptor really liked first 2 ovas third hour long rape scene hell like uhhhh think im ',\n",
              " 'Huh . Supergirl airs today ? Aaand I got disturbing images Jeb sitting snuggy front TV box Kleenex ready ... D : ',\n",
              " \"When get English classwork done first day 's released _ÙªÎ_Ù\\x8f__ÙÕø \",\n",
              " '@ KatLouvain eternally grateful woo woos missing grubby puffle : ( ',\n",
              " \"Lauren Holiday retiring going hit play next game 's starting line _ÙÕÓ \",\n",
              " 'No one wins misery Olympics @ lvanderkam tips highly successful women . # 3PercentConf ',\n",
              " \"When homies wo n't let group chat ... . https : //t.co/sszplkOuN2 \",\n",
              " '@ rodimusprime site maintenance ? ',\n",
              " \"Document : EPA 's existing source performance standards , redline version responses comments https : //t.co/zQZSCFZK00 \",\n",
              " 'Please visit home # TheUnionNetwork @ https : //t.co/k70X95WQQ6 & amp ; find . ',\n",
              " '@ ATTCares way get phone shipped faster ? ',\n",
              " 'sometimes get away family sit loo four hours straight ',\n",
              " 'Love network people making real difference open spaces city ! https : //t.co/weUCymRqeo ',\n",
              " \"This company wants sponsor I 've putting hold promo work . NOT I n't like I 'm busy rn \",\n",
              " 'But easy exams cost much ! The praxis cheaper . And top I pay extra get certified lol . ',\n",
              " 'How inflict cbse schools modern kolkata , noida kochi , staff relocating parents : eyB https : //t.co/K4s00WiNUH ',\n",
              " '@ TSMTheOddOne shoutout crt ',\n",
              " 'Check swanky digs ! The new @ OneRxApp office ! # newoffice https : //t.co/wvvQtke9Y6 ',\n",
              " \"@ bigevvy10 Agreed . It 's also last thing Cowboys need right considering season gone thus far . \",\n",
              " 'Love leaving shopping top van driving . Seeing loaf bread grapes rolling windscreen great laugh ! ',\n",
              " \"Gala Bingo clubs bought å£241m : The UK 's largest High Street bingo operator , Gala , taken by\\x89Û_ https : //t.co/rTEVyem2CG \",\n",
              " '@ JustMalcom M I need herb_Ù÷À ',\n",
              " 'The N.H. Attorney General\\x89Ûªs office acknowledged Monday open court cap school adequacy funding ... https : //t.co/yCfPNpRnp1 ',\n",
              " \"I live nights I ca n't remember people I wo n't forget _Ù\\x8dÈ @ Sherman Oaks , Los Angeles https : //t.co/1XRSynHf8N \",\n",
              " 'A magnificent test flight scaled @ WorldViewVoyage capsule . The entire test flight went perfectly , & amp ; landing . https : //t.co/3dLzi6NPYG ',\n",
              " \"There n't ever enough time day homework give _Ù÷Ó \",\n",
              " '@ lizziecaakes yeah ill send flier today : ) costume party ',\n",
              " \"@ The_Ambassador_ ca n't miss lol https : //t.co/6VYTOIv12c \",\n",
              " 'Companies looking fill 2,300 positions Monday : Over 2,300 jobs available today Phoenix\\x89Û_ https : //t.co/7GDUzcZG2Y ',\n",
              " '@ onedirection Favorite Duo Group Pop/Rock # AMAs ',\n",
              " '@ MIRACLECHARLIE Take bags candy stick freezer . It take much longer eat . ',\n",
              " 'Business boss 365 days year difference makes get 24hr ? ',\n",
              " \"'Amazing journey ' brings gold medallist Mat Belcher Abu Dhabi 2015 ISAF ... - The National https : //t.co/3DBLyoRxNh \",\n",
              " \"Do n't something someone ai n't gon na \",\n",
              " '@ dirtysocks66 ask Jets blew minute calling timeouts ',\n",
              " 'The Four Most Important Symptoms # ConcentrationProblems https : //t.co/W7LP6KE2ii https : //t.co/1TPpGtvDoo ',\n",
              " 'Using fresh herbs cooking , fantastic teas , healing ailments ? Grow herb garden enjoy rewards : https : //t.co/5NP8GaPuDc ',\n",
              " '1 . 25 people line . Keep Calm # rakattack ON ! # yeg https : //t.co/715MqX9TGI ',\n",
              " 'The cookies look amazing _Ù÷ã ',\n",
              " \"Why n't seventeen year old boys look like , real question . https : //t.co/kyTkXOx5dI \",\n",
              " 'https : //t.co/EROGWTFTYo Sissy\\x89Ûªs job train Sissy Secretary https : //t.co/yRn2SPStrY ',\n",
              " \"Some guy looks like Milton Office Space walked office . I could n't control laughter . \",\n",
              " '@ RealDiscoDonnie got one something wonderful getting cancelled well . So gon na get original refund ? ',\n",
              " '@ httph94 started bottom _Ù÷â_Ù÷â_Ù÷â known 13 years _Ù÷_ ',\n",
              " \"@ BestCoast size one 're wearing ? I 'm trying figure right size . \",\n",
              " \"I love man God blessed call daddy 's best father husband mom \",\n",
              " 'Loved opportuntinity serve Berrys Hamptons Sunday wedding ! Sweet couple ... wonderful ... https : //t.co/T6mTzKPAj8 ',\n",
              " '# yahooanswers Question : What difference inverter , solar inverter ? https : //t.co/6zEG5h1LMZ # Environment ',\n",
              " 'Go Sixers game birthday ? # debate ',\n",
              " \"@ VictoriaFalls_G I ca n't promise ALL gossip ... \",\n",
              " '90,000 $ $ \\x89Û_\\x95ü\\x8f What would OHS ? Sell # OHSROCKS tickets make OHS coolest school _ÙÎ\\x8d ! We could lot 90K ! # DOIT ',\n",
              " 'Eminem Brought \\x89Û÷Mom\\x89Ûªs Spaghetti\\x89Ûª Back For This Strange Basketball Commercial : Eminem helps Detroit Pistons ... https : //t.co/6CRCb3RCuX ',\n",
              " 'Meatless Recipe Hour : BBQ Potatoes https : //t.co/oVPRomZyky # BBQFresh ',\n",
              " 'Age # Telecommuter : Managing Remote Virtual Teams via @ switchandshift # EmpExp https : //t.co/7VgodqFV7I https : //t.co/6TKJkmHj2C ',\n",
              " \"@ jaygiannone Have n't gotten beat yet ! The Dolphins looked pretty good yesterday , though . Think 'll beat ? \",\n",
              " '@ onedirection Favorite Duo Group Pop/Rock # AMAs ',\n",
              " '@ AshKeeline & amp ; I absolutely perfect girlfriend I possibly dream ',\n",
              " '@ LPNorthover @ Aurum_Boss @ LibDems point remember fondness liberal impact Tory measures ',\n",
              " \"That 's really explanation I need . \",\n",
              " 'The worst thing liking someone read horoscope ',\n",
              " '@ onedirection Favorite Duo Group Pop/Rock # AMAs ',\n",
              " '@ Eggelletion With due respect , Sir . Puerto Rico part US -- albeit , willingly -- , PR people US citizens ( ! ) ',\n",
              " \"@ DumbCreationist There 's NOTHING new paper would pasted every TV screen worldwide ! It 's unsubstantiated rot . \",\n",
              " 'The Digital Entrepreneur https : //t.co/9DpxenDNic @ copyblogger ',\n",
              " \"Meacher 's motion delay voted 307 -277 contents . \",\n",
              " 'We gone show world definition real . ',\n",
              " 'Check largest pink diamond ever auctioned , price tag starts å£15m https : //t.co/Dr5VcvEZv0 ',\n",
              " '@ onedirection Favorite Duo Group Pop/Rock # AMAs ',\n",
              " \"The nudes 'll getting colour schemes art \",\n",
              " \"The odds born : exact time , place , specific parents , DNA structure etc. , 1 4 trillion . You 're lucky . _ÙÔÎ_Ù\\x8f_ \",\n",
              " \"@ CuestionMarque Do n't forget billions subsidies given 2 wealthy farmers . At time slashing benefits 4 starving children . \",\n",
              " \"Pedro saying 's finding hard Chelsea football different Barca 's ... Everyone knows Chelsea bus parking football \",\n",
              " 'Seems like closer I get flying home\\x89Ïö\\x95ü\\x8f gets away_Ù÷© mannnnn ',\n",
              " \"First basketball season high school 's Navarre \",\n",
              " '35 hunned coat ',\n",
              " '@ StrifeChaosPain The way nugget . If nugget , I eat ? ',\n",
              " 'The Aquadolls - wander ',\n",
              " 'bs life writing ! ',\n",
              " '# yahooanswers Question : Do go outside shirtless , yes why.The person ... https : //t.co/Q57l6yXqdW # Environment ',\n",
              " \"@ steve228uk I think even shocking talktalk n't feel need encrypt data regardless whether 're obliged \",\n",
              " 'Big announcement happening tomorrow ... Who winner @ VansWarpedTour @ ernieball # BattleOfTheBands ? ! https : //t.co/XostpLCvdl ',\n",
              " 'Always let people got bus stop get first ',\n",
              " 'The counselor _ÙªÎ_Ù\\x8f_ God good . Dream job https : //t.co/mICKo1rVgv ',\n",
              " 'Top 5 Independent # Watches Of The Year https : //t.co/a0zHPR7Yaa https : //t.co/nWON61Cioe ',\n",
              " \"@ evey_gallardo youre pushing away ones actually gave shit . I 'll stop though n't even got ta trip hey I 'll around \",\n",
              " 'Ride pipe like bike , make sure going distance _Ù_ « _Ù\\x8f_ ',\n",
              " 'Eme RnB singer comes yet another catchy tune time around remix previously ... https : //t.co/jCJje7p9ux ',\n",
              " 'urgent matter dat needs sincere attention kano . struggle finally coming tru . hv 2 meet 2moro , either b4 aft ',\n",
              " \"Ca n't Fight The MoonLight With Lyrics https : //t.co/rix04Ss2ky \",\n",
              " '@ WEvansMusic @ trevorhallmusic Loved @ trevorhallmusic Columbia , Mo . Soulful evening @ the_blue_note , indeed . Happy trails ! ',\n",
              " 'So hard convince someone watch hollyoaks acting bad tonight _Ù÷¬ ',\n",
              " '# longevity # secrets around globe https : //t.co/IKkYPZn1hK ',\n",
              " 'Prayers go Oklahoma State University cause last week 4 ppl died 44 injured shooting OSU homecoming parade . ',\n",
              " '@ Tim_Muma @ RamieIsTweeting people choosing eliminate 1 season largest sample size . Also , Jordan comment sarcasm ',\n",
              " 'The Manobos Mindanao John M. Garvan https : //t.co/UmEiApOX7H https : //t.co/HcSoHcyO0Z ',\n",
              " 'The House Lords voted delay cuts # taxcredits ',\n",
              " '@ nokesy95 No Head Phones Nokes ... Thinks DJ without headphones bringing next track , high hats everywhere ',\n",
              " \"Andray Blatche playin ' ball China & amp ; still got blocked . I gave rights domain andrayblatchesucks dot com 2 yrs ago \",\n",
              " '# yahooanswers Question : In aspect recycling/doing better job US , th ... https : //t.co/tE7COQJie2 # Environment ',\n",
              " 'Logistics Group Continues Sponsor Supply Chain Management Award - The Handy Shipping Guide https : //t.co/TWHmxmoLfl # supplychain ',\n",
              " 'Wen try sign says unable sign But told needed Play station plus @ AskEASupport ',\n",
              " 'No matter cost , I preach gospel void African beliefs man made doctrines . I refuse put ... https : //t.co/1Z506HlkbT ',\n",
              " \"@ realjerryjones Greg Hardy disrespectful thuggish . It n't matter good , damaging Rep teams Rep \",\n",
              " 'Someone give plans daaaaaay ',\n",
              " '@ katmele_ ya get fuck mentions ',\n",
              " '# Job # Detroit CMM Programmer - Metrology Technician : MI-Farmington Hills , MI , The Bosch Group manufactures ... https : //t.co/BEhHKSDbea ',\n",
              " 'wait last episode futurama oh ',\n",
              " \"'m super sensitive internet call silly via MSN die etc \",\n",
              " 'Paul Ryan fight GOP\\x89Ûªs soul : If Ryan co-opt half Freedom\\x89Û_ https : //t.co/73fdZXOA63 ',\n",
              " 'Amazing : See Igbo Village In The United States OfåÊAmerica https : //t.co/xwwbKaPWw6 https : //t.co/kBzoM1yPnm ',\n",
              " 'The Digital Entrepreneur : The dream building business around digital products services old ... https : //t.co/MOPQRr2CPb ',\n",
              " \"Game one # WorldSeries tomorrow ! Who 's pumped ? ! _ÙÔÈ \",\n",
              " 'The best picture Ive ever took . # OTRAbirmingham3 # OTRA @ onedirection https : //t.co/xOBnhWw0pW ',\n",
              " 'Here Apple Watch faces ranked worst best # AppleWatchBands https : //t.co/elrniztWnv https : //t.co/1l7QMSJipp ',\n",
              " '# mungaab district leaders gone . I hope new mayor gets rid thugs wider representation . ',\n",
              " \"@ AllanSchumacher @ ExtraLife4Kids `` 100 % donations received go hospitals supported . '' absolutely fantastic ! ! \",\n",
              " 'A Practical Introduction Science Short Hand , William Gawtress , 1819 https : //t.co/tCNpfqCr37 https : //t.co/hQVkPSO917 ',\n",
              " \"The tackles players , 'd swear somebody sent teams sabotage us . \",\n",
              " \"Yknow , I 'm damn done . Want , n't want , I n't care , miss n't , n't care , cya later . \",\n",
              " 'jackasses world I chose . amazing day babe @ TroyStickITin48 . love black bird _Ùªâ https : //t.co/tB2FbujqBc ',\n",
              " '@ SoNotShannon wat sarcasm saw people tweeting alay decided elephant pack mice : P ',\n",
              " \"I crazy ass headache . Do n't think I 'm gon na hit gym tonight ... \",\n",
              " 'The secret lies sense wonder beauty . ',\n",
              " 'Deputy PBSO : Planting Evidence , Lying , Part Game https : //t.co/33DMngKdQS ',\n",
              " 'lol time warner cable literally worst ',\n",
              " 'Sometimes wrong things lead us right places ',\n",
              " 'Join Cricket Wireless team ! See latest # Retail # job opening : https : //t.co/LwGfFCm3D4 # Mesa , AZ # Hiring ',\n",
              " '@ Z100NewYork please let attend future vip party tonight love demi nick # Z100FutureNow _ÙÕÑ_ÙÕÑ_ÙÕÑ_ÙÕÑ_ÙÕÑ_ÙÕÑ_ÙÕÑ_ÙÕÑ_ÙÕÑ_ÙÕÑ_ÙÕÑ x123 ',\n",
              " \"@ Natalia_Lach oh I know , 's first time I drink ; ) I 'm reserve bottles alcohol : P : D \",\n",
              " \"THE A-N-T-I-C-I-P-A-T-I-O-N. `` @ LivecalmAfrica : We 'll dropping fine images tomorrow noon _ÙÔÎ '' \",\n",
              " \"@ OneBADMAC @ BillyCorben wants job . He 's said already practically begs \",\n",
              " '@ GhostofJXtacy I apologize mix ! Something might help future delete app reinstall . ^Heidi ',\n",
              " \"Shaw 's highly-anticipated restaurant , The Dabney , opens week . Take first look inside : https : //t.co/z9K9c0jXdn https : //t.co/kF9lDg11ye \",\n",
              " 'I cant spot bs mile away ',\n",
              " 'people school believe anything hear kills _Ù÷É ',\n",
              " 'honeymoon tour massive success..proud proud proud ',\n",
              " 'Dead States : Remnant # Teen friends survive future . # SHTF # TEOTWAWKI # survival # IARTG # SNRTG https : //t.co/yAR6GTpdM8 ',\n",
              " 'When I young world smaller The cities vast buildings taller ',\n",
              " '# Lifestyle The line-up officially announced 18 December 2012 . ',\n",
              " 'https : //t.co/EROGWTFTYo Sissy attendants preparing Attendants https : //t.co/dF0OexpbiA ',\n",
              " \"@ IvandontcareH @ amanda_shelton_ menninists n't respond getting punched face well \",\n",
              " \"Sometimes someone ask I 've lost even weight lately , I 'm always torn lying telling truth . \",\n",
              " '@ Maskinen92 @ _WhatEven @ RussianSnowball I meant website , like access ',\n",
              " '@ onedirection Artist Of The Year # AMAs ',\n",
              " 'The history HMMWV ( Humvee ) ties Jeep . # Watches ',\n",
              " 'Combat # SmartphoneSlump : improve posture , start cobra pose , stretching front body . https : //t.co/BleNw1RmK2 ',\n",
              " 'lmao fucking hilarious.. popcorn ',\n",
              " 'Making descent : Marines hone fast-roping skills - https : //t.co/rhVvVlohny ( press release ) https : //t.co/7xgsLsGqOx # usmc ',\n",
              " '@ The_Guatemalan Catch @ BoxH9 Saturday 31st Oct massive LAUNCH NIGHT & amp ; HALLOWEEN PARTY https : //t.co/tN4uJtqCEh ',\n",
              " \"Dunno wats worse , waking sons room 's `` waists movement '' TL https : //t.co/0057BOWKey \",\n",
              " \"The second reading okay could 've better people said would n't enough time teacher ... . \",\n",
              " 'feels like winter mornings , summer middle day , fall night.. tf supposed dress ',\n",
              " 'THE MOONLIGHT ERA STARTS IN 4 DAYS # 4DaysTilFocus https : //t.co/y9EimyHL4w ',\n",
              " 'Royal doulton figurine , Top hill , HN 1834 , rare color combo red https : //t.co/SEB8cds8vA https : //t.co/aHAax2x7JG ',\n",
              " 'Police upset technology means dirt exposed world see ',\n",
              " 'PLAY THE UK NATIONAL LOTTERY THE SMARTER WAY ! https : //t.co/ueEpIfxykg FOR DETAILS ! ',\n",
              " \"@ Ashton5SOS n't pretend like 's best thing happen \",\n",
              " \"TAFE 's construction teachers face axe despite building boom https : //t.co/enQ9Pv61oI \",\n",
              " 'thunder hectic last night - shook house soooo much ',\n",
              " \"It 's week 2 Round 4 # 21dfx ! I happy say I lost another 2.5 inches a\\x89Û_ https : //t.co/6GJJWQqURZ \",\n",
              " \"@ JerkyXP thanks motivational Monday 's \",\n",
              " 'Is Julian apologizing tomorrow New Years sex ? LOL ',\n",
              " 'The Body Language . ',\n",
              " 'BIGGEST HALLOWEEN EVENT IN THE CITY\\x89Û_\\x95ü\\x8f @ SNOOTIEWILD LIVE THIS SATURDAY @ INDYS # 1 PARTY SPOT ! ! ! LIVE\\x89Û_ https : //t.co/q8i9Nw6fe2 ',\n",
              " 'Tom Brady makes exceptional seem routine Patriots\\x89Ûª victory Jets : ( If want tell it\\x89Ûª ... https : //t.co/ViEQ1wF3hd ',\n",
              " '@ _NicoleBrooks Option 2 ... Go student bar ',\n",
              " '@ BuckSexton I remember days I would party hard weekend call sick Monday ... ... . ',\n",
              " \"I Ca n't Wait Friday When I Get The Whip_ÙÕ¬ \",\n",
              " \"Sochaux 's @ Jong22_ Valenciennes ' @ PSlidja France Football team week - two young Ligue 2 players big futures \",\n",
              " \"And moms reading n't worry bout gettin sent war better army policing streets believe \",\n",
              " \"I 'm rockin spiders decide make webs hang right garage keypad \",\n",
              " '# DC # retail # jobs Retail Sales Specialist Part Time : `` Retail Sales Specialist Part Time Our company ... https : //t.co/Z53sO8w3cC ',\n",
              " 'https : //t.co/P2bd2jxKlJ Young Ali Nail em cross Slim Jesus Diss ! ! ',\n",
              " \"The amount people think I 'm Thibaut acc_Ù÷__Ù÷© \",\n",
              " 'Victory Darkness : Realizing Power Your Identity Christ An https : //t.co/5EvaXlsUfI https : //t.co/PI0OiAowa4 ',\n",
              " 'NEW BLOG POST featuring @ ShowOffDolls @ campdelcorazon # ElixirShow @ romacostume https : //t.co/jsgulqQB7Q ',\n",
              " 'Photo https : //t.co/E3JAMbr7UM best busty boobs click image # bustyfriends bignaturals , bigtits , b\\x89Û_ https : //t.co/LM2yfsRLHu ',\n",
              " '@ kc_Kush125 I say # chingobling shit aye lol ',\n",
              " '@ RodriguesMatt I hope mean way , tracks away train ? Riiiight ? ',\n",
              " 'Idk one brings attention fucking bullshit . Fuck @ NFL https : //t.co/yMrmgVq94i ',\n",
              " '1 tweep followed past day . Feels great ! Do also want feel awesome ? Check https : //t.co/qpXTR1gDLk ',\n",
              " 'Campbell built reputation put stamp team . However , enough win job ? He win week . ',\n",
              " \"@ Ports100 You 've got fans Ports UTB get selfie November , Porter scores 're pitch \",\n",
              " \"The students ready Governor Ricketts ' presentation ! https : //t.co/h3tfnu3IQ1 \",\n",
              " 'Stevia Raw low $ 4.29 Kroger ! via Kroger Krazy - We new coupon ... https : //t.co/zUucOqsfeo ',\n",
              " 'I best bf _Ù\\x8f ',\n",
              " 'Triggered Email : The Killer Conversion App : Marketers using \\x89ÛÏspray pray\\x89Û\\x9d tactics ... https : //t.co/qmOjeAJkKm @ ValPopescu ',\n",
              " 'Experts split likely Long-Range Strike Bomber winner : The US Air Force poised deliver de ... https : //t.co/uPzSwT4n8u # airnews ',\n",
              " 'Forget unfollowers , I believe growing . 1 new follower last day ! Stats via https : //t.co/lnDLNDzBg8 ',\n",
              " 'Enjoy man _Ù\\x8dÈ_ÙÓ__Ù_¦ \\x89ªÇ Jerusalem Alpha Blondy & amp ; The Wailers \\x89ÛÓ https : //t.co/qpMWCgzNMK ',\n",
              " 'I 90 Northern State 4AM . I lied said I left everything home . Idk shit worked . ',\n",
              " \"Now 've cup record amount times , 've decided name competition stadium # FACup _Ù÷Ý \",\n",
              " 'I passed class lol nice ',\n",
              " 'The A I right Drawing 1 ',\n",
              " \"I 'm new James Bond film btw https : //t.co/qIGqbDe5Jw \",\n",
              " 'OK -- prudent spending cuts # Debt Jacob J. Lew : Honor obligations , raise debt limit https : //t.co/1jHRNpOznW via @ usatoday ',\n",
              " 'need Ramen grill ',\n",
              " 'Just wan na go Chicago Aquarium . Is much ask ? ',\n",
              " \"`` Your never home weekends '' IM ALWAYS AT MY HOUSE wym \",\n",
              " 'The International Space Station passing SF Bay Area ! Wave ! ! ( October 26 , 2015 01:05PM . ) ',\n",
              " 'This guy literally ran front hold door open like wow thank kind human ',\n",
              " \"@ PandaPSU You need guys skill & amp ; contribute offensively . I 'm saying hits n't needed . But game changing ... \",\n",
              " '@ ShepNewsTeam always give find redneck peeps interview SC /NC . We intelligent people ! Interview . ',\n",
              " \"# MusicMonday - Sumthin ' Sumthin ' ( Mellosmooth ) . Have heard snippet III previewed short ago upcoming SUMMERS ' ? \",\n",
              " \"Let # kids mess . Let 's start giving children 'The Gift Of Failure ' # parenting https : //t.co/esKZaQFpJg @ jesslahey @ HuffingtonPost \",\n",
              " \"The crowd right tonight 's show Madrid # 5HTakesMadrid # EuropeanReflectionTourMadrid https : //t.co/StrzXkovmo \",\n",
              " 'MP3 Songs Best Sellers Blues # 7 : Fireman Ring The Bell R.L . Burnside https : //t.co/naD0PnrL1r https : //t.co/I4DnuxXOBW ',\n",
              " \"Tolkien-notated Middle-earth map found copy 'The Lord Rings ' - https : //t.co/JeaKdh1PSD . \",\n",
              " \"`` If failure celebrated , I believe world would magical place . '' via @ danemaxwell \",\n",
              " \"You 're invited read # free chapters ! THE PIRATE AND THE AMBER CAT # romance # clean # pirate # teen https : //t.co/fKTgDcU4EU \",\n",
              " 'Why NoSQL Movement Should Have Been Called JSON Movement https : //t.co/ljZd1GAXwo via @ Tamr_Inc ',\n",
              " 'The idea growing old sounds whack fuck . I wan na die young . ',\n",
              " \"@ AsapMikeyyy n't game long . Give time \",\n",
              " 'Everything Hinges Narrative Your Work @ pauljun_ via @ helpscout https : //t.co/ioQdx4LGXT ',\n",
              " \"@ jamesdoleman I n't realise broken 800 ! And 've cheek say country lives beyond 's means ! \",\n",
              " 'Young People Hold Key Mobilizing Climate Action . SUPPORT THEM ! We left damn MESS ! https : //t.co/pZZXbmONiZ ',\n",
              " 'Praying victims Afghanistan earthquake . May God bring peace healing . ',\n",
              " 'These dumbest relationship goals ever https : //t.co/4S7ITcRbah ',\n",
              " \"No . I hate phone . That 's . \",\n",
              " '1819 7vols Specimens British Poets Thomas Campbell https : //t.co/12VShB54jP https : //t.co/qB6AHjGu7w ',\n",
              " '@ NorthJerseybrk poor . All afternoon cops trying keep photographers away kids sneak one ',\n",
              " \"What craziest thing 've done public ? \\x89ÛÓ Oh n't wan na know . https : //t.co/eYGEcXs5Zu \",\n",
              " 'The world pull gravity ... ',\n",
              " \"Alright `` @ DamzAdeleye : @ KeneAmazu fun harsh tag ; # marketmemonday . _Ù÷ä '' \",\n",
              " '@ thefringthing HARLEQUINS FOR THE HARLEQUIN GOD ! HOUSEWIVES TO THE HOUSEWIFE THRONE ',\n",
              " \"`` smell ? '' allie asked creepily waiter filled water glass \",\n",
              " 'UK car dealers fear fallout Volkswagen scandal https : //t.co/Fx6ESzetgp ',\n",
              " 'hell get information schools lockdown news ? ? Wtf . ',\n",
              " 'Congratulations Sarah S. MI , # Week6 winner # Ronzoni100 # weeklygiveaway https : //t.co/qEgBYQE61i ',\n",
              " '. @ ChanceTheRapper rhymes 11/6 . The show details : https : //t.co/A9gwLdpf5F # Orlando # CentralFlorida https : //t.co/S51T5bn4l8 ',\n",
              " \"@ DanielSolis @ 425suzanne What 's funny idea morning 's already done game . Daniel amazing . : -p \",\n",
              " 'Instagramarama : 10 eye-popping atriums around world https : //t.co/ZU3uxdlQYF https : //t.co/gplJBvgHnU ',\n",
              " '@ stephjohnson9 store manager would like contact . ',\n",
              " 'https : //t.co/ayr4C6eAZx In studio Recording 2016 Tour ! https : //t.co/3FnA8iAUSm ',\n",
              " 'stop saying ur person called ur , u dick . hate ignorant ppl ',\n",
              " 'Looking forward seeing new bond film tonight _Ù÷ _Ù÷ # excited # SPECTRE # 007 ',\n",
              " 'I understand people mentally ill likely victims perps . I also know amount abuse endured asylums . ',\n",
              " \"Hey brad , hope smash show tonight ! ! Ca n't wait see boys tour next year ! ! Ily @ TheVampsBrad Please follow X33 \",\n",
              " \"@ namaikilips @ maiyanee He ca n't else mom kick house \",\n",
              " '@ OfficialTAZ still blading WWE PG era ? ',\n",
              " '@ Cofe6370 @ BIGJAMES_2 @ MeeMichie @ mestasenesta @ Imdatchick1985 I don\\x89Ûªt know women agree 3some first place ! # Stupid ',\n",
              " 'The Rolling Stones- Miss You https : //t.co/coKcmfQcTe ',\n",
              " 'I never really take bus I today lol ',\n",
              " \"I drove bridge , I swear 's longest bridge ever lol . https : //t.co/bBsPSCoUkL \",\n",
              " 'This # musictech panel looks amaaaazing . Heavy hitters across board w/ @ Flipagram @ Fender @ MACHINESHOPCO https : //t.co/yOuwa6OnMc ',\n",
              " '@ rayascoop # SPECTREpremiere https : //t.co/yfxgwOXSPo ',\n",
              " '@ Nadia_Ali_xxx beautiful princess devils ',\n",
              " 'Abraham came time specific assignment ( Becoming Father Faith ) . ',\n",
              " 'Lowkey juice right _Ù÷\\x81_Ù÷ã ',\n",
              " \"@ JDSussman Men 's Journal . I 'll tweet link \",\n",
              " 'Love rain hair \\x89\\x9d_\\x95ü\\x8f ',\n",
              " 'Holy shit ... Naomie Harris # bondpremiere _Ù÷\\x8d ',\n",
              " \"It 's prefect day go beach \",\n",
              " 'Everyone take breathe made dance anything possible lets wait dissect elimanated # Giovinco ',\n",
              " \"`` Damn , ca n't eat bacon , hell eat ? ! '' https : //t.co/NmzfJdW7OH \",\n",
              " '@ clownatlaw @ ResJudiGator looks like tweets erased ',\n",
              " 'The Torrents Spring Ivan Turgenev https : //t.co/GQZvHGsDn8 https : //t.co/ni3LikzXeO ',\n",
              " '@ TanyaHuntington Yes , please . ( And yes , D see Crimson Peak , chaperoned . I asked All critics ) ',\n",
              " \"I think Lancome 's Mes Incontournables de Parisienne Makeup Essentials Palette smartest palette\\x89Û_ https : //t.co/Vx9fHFzrHw \",\n",
              " 'Experts split likely Long-Range Strike Bomber winner : The US Air Force poised deliver decision ... https : //t.co/mfwgzHryBX ',\n",
              " \"FirstWorldParli : # GE2015 S'poreans look forward train breakdowns PAP Regime \\x89Û_ https : //t.co/nctiziTgWW \",\n",
              " \"Mystified , spinning 'round circles , drowning silent screaming nothing left say . # HadEnough # Lifehouse \",\n",
              " 'Now I think , I 9 I DEFINITELY got caught middle giving haircut . ',\n",
              " \"@ Alicia20M I know 's annoying . It 's cold couple minutes 's like Sahara ! \",\n",
              " \"I HATE THE WALKING DEAD NO I DO N'T BELIEVE HE IS DEAD \",\n",
              " \"@ KOLATRL dont see 30 sec Rih 's song # 1 , meanwhile Abel already CFMF The Hills _Ù÷_ \",\n",
              " \"The woman @ theweeknd 's Angel sounds similar @ halsey I 'm eagerly awaiting collab two _ÙÕ\\x81_Ù\\x8f_ \",\n",
              " 'Is option N3DS allows face tracking turned ? https : //t.co/xeJaucv4Nc ',\n",
              " 'The Most Likely Next President Is Hillary ! https : //t.co/IZfquWbSrF ',\n",
              " 'Local version # insideout playing TIG theme retell story local codebreakers _Ù÷\\x81 ',\n",
              " \"It 's heartbreaking know one love longer loves \",\n",
              " \"@ hornicole @ The_Real_Dylan_ counting days I 'll I wo n't need booty pics make happy \",\n",
              " '@ DWKPutsYouAway \\x89Û¢Nods runs room.\\x89Û¢ ',\n",
              " \"How Play Need Speed Reboot Five Days Early : After time away , EA 's Need Speed franchise ret ... https : //t.co/LTZSn8TLD0 \",\n",
              " 'To Marines @ mall made smile & amp ; laugh today , thank ',\n",
              " 'Halloween Dance Party Saturday , 8-11PM historic Benicia Clocktower . The party Benicia ... https : //t.co/IUgeR0J0N3 ',\n",
              " 'Floating jack-o-lanterns create perfect spooky lighting outdoor Halloween party ! \\x89Û_ https : //t.co/ycGr9Kq5Kv ',\n",
              " 'Listening songs I used listen 2 years ago , difference listening , I understand lyrics ',\n",
              " \"So come baby lets rock n roll get little lost old back roads later 'll count stars \",\n",
              " '@ hestiahdruid news back 2010 2011 , AIDS/FIV research\\x89Û_ : ) https : //t.co/PB9GJP4FWN ',\n",
              " 'To realize value one hour , ask lovers waiting meet . ',\n",
              " 'Waiting checked one luxurious hotel Abu Dhabi\\x89\\x9d_\\x95ü_ # happyanniversary # top1\\x89Û_ https : //t.co/GG8gpDQdvz ',\n",
              " 'RishuMonga : The blurred line content marketing SEO https : //t.co/LMgmJajWuz https : //t.co/JVJlR3VbQN # ContentMarketing ',\n",
              " 'Idk doctor like wth let check height_Ù÷â_Ù÷â_Ù÷â_Ù÷âRT @ baddie_pee : @ MsCoMpliCaTeDTK u thought u tall ? _Ù÷â_Ù÷_ ',\n",
              " 'Word day : # Favor ',\n",
              " 'Bah-ZOOMS https : //t.co/ktbJkbzBaP best busty boobs click image # bustyfriends bignaturals , bigtit\\x89Û_ https : //t.co/niF1IErVIs ',\n",
              " 'And final . The piece painted recent sketch , idea work , c\\x89Û_ https : //t.co/wcaWfCQGIe https : //t.co/6aYtlYzjpA ',\n",
              " '15 Times People Use Selfie Sticks Wrong Way https : //t.co/Hq0K02HspP ',\n",
              " 'The Weeknd -Wicked games_Ù÷\\x8d_Ù_¤ ',\n",
              " 'The Weight Of Grace https : //t.co/G9Ux9sMFqJ ',\n",
              " 'Greetings ! @ WebMythical Thanks follow ! _Ù÷_ _ÙÔ\\x8d # HappyMonday ',\n",
              " 'The thing better chilli bacon chilli . # baconwithanything https : //t.co/AfANPdXJfR ',\n",
              " 'Seem like move worth making ',\n",
              " 'The Digital Entrepreneur : The dream building business around digital products services old ... https : //t.co/1JARA3uDuq ',\n",
              " 'Planned U.S. patrols raise stakes Beijing disputed South China Sea | The Japan Times https : //t.co/IyPbi1GTVm ',\n",
              " '@ HayleyAtwell @ MMDogRescue If get cute puppy join dubsmash ... .u greatest woman alive ! ! ! ',\n",
              " 'Clarification cancer news today . https : //t.co/PM18uM3XX4 ',\n",
              " \"@ alphy_alphine Moose Jaw one cheaper cities . I 'm living Regina 's 1500 month plus utilities . And 's new area ! \",\n",
              " \"Emanuel thinks I 'm sad today , talking `` still sad walking dead '' _Ù÷â_Ù÷â I still \",\n",
              " 'Here\\x89Ûªs How Many Downloads Adele\\x89Ûªs \\x89ÛÏHello\\x89Û\\x9d Needs Break Record https : //t.co/dGyhi3xHIC # ekko ',\n",
              " '@ coobeeration thank follow @ Primeonly27 https : //t.co/moI4yulWCk ',\n",
              " 'I pity girls still stuck high school ',\n",
              " 'Conor breslin real bresy . ',\n",
              " \"I fully agree Todd Bowles ' assessment timeout situation end game . Why r people trouble understanding ? \",\n",
              " 'Untranslatable Love Words Around World https : //t.co/r1B32bWrqK ',\n",
              " \"The Wicca Spellbook : A Witch 's Collection Wiccan Spells , Potions , ... https : //t.co/zzv9NM6hGW https : //t.co/EiMrdwTj5q \",\n",
              " 'shits . ',\n",
              " \"`` Lovin The Vibes On Our Personal Tour Of Jungle Cat World ! '' # Gratitude # Love # Animals https : //t.co/Crez2exU3u \",\n",
              " \"Okay , since 's new quarter , I think 'm gon na deactivate twitter thanksgiving break . If wan na talk ask # \",\n",
              " 'LOST GIRL - The Making Episode : Hair Make-Up https : //t.co/uUDqyWDhh2 via @ YouTube ',\n",
              " 'The 3D photos daughter & gt ; & gt ; & gt ; ',\n",
              " '@ Ahilton_5 Ethel standing & amp ; Horus rock . give time adjust lol https : //t.co/iwg7YKdtln ',\n",
              " 'Free # bitcoin @ https : //t.co/dOPAtbWNZu The Bitcoin Startup Boom Comes Back Down Earth https : //t.co/hlpDVBQCRQ ',\n",
              " 'In worst mood ever : ) ',\n",
              " 'I added video @ YouTube playlist https : //t.co/PyA7zaltcO Walking The Dogs [ Lifecast 763 ] ',\n",
              " \"`` Hard times build determination inner # strength . Through also come appreciate uselessness anger . '' ~ Dalai Lama \",\n",
              " '@ paulwesleyshair @ 50ShadesOfDEMl @ werkvato @ StoneColdDeluxe She BRAZIL promo week . Your faves bust asses ',\n",
              " '@ HartleysRooms Hello : ) discussing favouite time year . Whats & amp ; ? https : //t.co/e6BBHnOfWE\\x89Û_ # FBLikeHour ',\n",
              " \"Me : I 've always wanted name desirae Samaria : I 'll call desirae call sunshine star What ... _ÙªÄ \",\n",
              " \"Gypsies , Travellers village life - discover @ MiriamWakerly 's novels AuthorsCafe https : //t.co/vXzU6wt38g \",\n",
              " 'I another point playing SuperLucky Button Superpoints ! https : //t.co/TAhQ6E7Glp ',\n",
              " 'Ima stay way \\x89Ï__Ù\\x8f_ ',\n",
              " \"I took many selfies weekend 'll take ages post ! Let 's start German\\x89Û_ https : //t.co/U6OVthw34k \",\n",
              " \"Big moment @ stecollins1 's hit instagram new style ! Slick back beckham style ! \\x89Û_ https : //t.co/SvuS0La4np \",\n",
              " '@ CPWTweets winners chosen highest scores random ? ',\n",
              " 'Check Original art manga anime blonde girl poster wall art home decor Made USA # Asian https : //t.co/UEMMbQXGbY via @ eBay ',\n",
              " \". @ GS1Canada & amp ; @ SafeFoodCanada explore Canada 's food protection , get together benefits # cbocfood \",\n",
              " \"Gypsies , Travellers village life - discover @ MiriamWakerly 's novels AuthorsCafe https : //t.co/EHN2VTrC3n \",\n",
              " 'Doods public universities US completely free ? Or pay something ? ',\n",
              " 'Join us Friday November 13th Tomahawks take Wilkes-Barre/Scranton Knights 7 p.m . ',\n",
              " \"I 've witnessed wedding Winn-Dixie parking lot ... This Alabama . https : //t.co/oSfbtQqgei \",\n",
              " \"Dare relive East Lancashire derby ? ? Here 's match report ... https : //t.co/XRQTAHadMB https : //t.co/wIzZgIGou9 \",\n",
              " '@ laurenfennis @ GoldxXxDust much vocals production ',\n",
              " '@ BWPrimary fancy trip Orkney : - ) enter win could take Shanice _Ù÷Û https : //t.co/MWA6s3EuxG ',\n",
              " \"I added video @ YouTube playlist https : //t.co/6gcNlHc4Jx Rockin ' Around The Christmas Tree Lyrics \",\n",
              " 'Damn I might listen album lmfao https : //t.co/1tKoK5Y9jM ',\n",
              " 'Going get # weed probably hit strip club @ BigBootyMoms @ CulonasPutas @ JuxcallmeDash @ Active_Dick _Ùªö_Ùªö https : //t.co/TKa927DOlW ',\n",
              " 'Stop talking busy - one wins misery Olympics @ lvanderkam # 3percentconf ',\n",
              " 'AgShowcase : Climate Adaptive Agriculture : Data-driven innovations field : https : //t.co/80OdC7lf1r via YouTube ',\n",
              " \". @ PatrickCoffee Pirate 's Loot , Necco Wafers , Dum Dums - candy spends eternity grandparents ' candy bowl \",\n",
              " '@ sortedfood Hi guys\\x89ÛÓ we\\x89Ûªll joined food critic Matthew Fort Thursday @ 12.30 station Twitter Q & amp ; A ',\n",
              " 'Problem masses feel like controlled democracy . Monitoring totally different issue ',\n",
              " 'The White House Is Ready For Tech To Step Up In Government https : //t.co/q3m6QSJ1VC via @ TechCrunch ',\n",
              " \"@ HIIIIjac @ kbombdotcom come room still drunk trying figure day ... 's Kristina window . _Ù÷â_Ù÷Ç \",\n",
              " '@ kdugdalemsp Meanwhile , Lords allowed Tory cuts tax credits go ahead . Shameful . ',\n",
              " \"Life changed months 's proof ! https : //t.co/C0ONfULatS # exercise rules ! \",\n",
              " 'The Advantages Dating After Forty ! https : //t.co/uYJqtOhmQA ',\n",
              " 'Starting gym serious ',\n",
              " \"`` Kindness language deaf hear blind see . '' \",\n",
              " 'Who decided way live lives based around piece green fabric ? ',\n",
              " '@ KaylaEssence yogurt section ? _Ù÷â ',\n",
              " \"# FHFishMemorial 's PMG Classic Coming Up ! Join us 11/6 # DeBary Golf & amp ; Country Club : https : //t.co/0UGmXajJcM https : //t.co/sU1KfeRD1F \",\n",
              " '@ JahovasWitniss thats unactivated phone dad would let use got new phone snake game it_Ù÷É ',\n",
              " 'All kids parents @ CA9Football beaversbrook @ SkySports showing feature 6am onwards tomorrow \\x89__\\x95ü\\x8f\\x89__\\x95ü\\x8f ',\n",
              " \"@ DGodfatherMoody ca n't wait get back truck 2maro.. Did Oink call yet ? ? ? ? Aka Steve Idaho ... Lol \",\n",
              " \"@ mdaisey The fish n't look . \",\n",
              " \"Even hes happy `` face '' https : //t.co/yIzYFPk4yl \",\n",
              " 'Impossible capture beauty full moon . Everything was\\x89Û_ https : //t.co/LTvKRSawiz ',\n",
              " 'SORRY TKU 4 RTs ! @ Monica_Most @ carmenthespy @ jlumo @ WindsorDw @ SavetheDolphin1 @ ADVAITA777 WILD ORCAS https : //t.co/Ry5vuYxWO5 ~ @ Orcazine ',\n",
              " \"@ MsAnitaGanja Tickets NY show go sale reg public 30th ... 's ticketmaster \",\n",
              " 'What fail report overall diet lifestyle people studied . ',\n",
              " 'The Empire Strikes Back ( Hillary\\x89Ûªs Empire , ) https : //t.co/IueX9i8cAH ',\n",
              " \"I actually n't think idiots get joke _Ù÷â_Ù÷â_Ù÷â https : //t.co/WOiE1T8Oyy \",\n",
              " 'Eliminate risk & amp ; attain higher achievement avoiding 7 Deadly Sins Project Mgmt - Join us # pmot https : //t.co/OfEqgKsxKz ',\n",
              " \"`` Ugly barbie '' literally best thing I 've heard week_Ù÷â_Ù÷â \",\n",
              " '@ Netjeretkhau could convince Chinese asswipe spleen makes yang hard could hunt extinction profit . _Ù÷__Ù÷Á ',\n",
              " 'Photo : realgrumpycat : Download Grumpy Cat Halloween stencil make worst jack-o-lantern ever : ... https : //t.co/tjKyTa0MKw ',\n",
              " 'Life Is Better At The Beach # Instaquote # quote https : //t.co/cD1Z6gocIy ',\n",
              " \"Praying Monday night MC 's look lies sin ... # Joshua \",\n",
              " 'Monkeys With Smaller Testicles Scream Louder Compensate , Study Finds : The Beauty Science ! # NowWeKnow https : //t.co/uAhaNVDX6X ',\n",
              " 'The title party says . Miss lob crew ! https : //t.co/1EEeUdnHnj ',\n",
              " \"# IBMInsight breakout session coming 20 min ( Level 3 , Banyan F ) : `` Break Down Barriers Digital Transformation '' # IBMSystems # ITOA \",\n",
              " 'DOBBIAMO VOTARE I RAGAZZI @ onedirection Artist Of The Year # AMAs ',\n",
              " '@ littlemix FAV IF YOU LOVE LITTLE MIX \\x89ª´ + WATCH THE VID ! https : //t.co/yUZPujPLmr 2015-10-26 12:40:30 ',\n",
              " 'feel tears going checks im trying hard think doctors keep saying hard ',\n",
              " 'Time take anger gym_Ùªã_ÙÕ » _Ù\\x8f_ ',\n",
              " 'Quality FUBU THE COLLECTION Mens Shirt Side Vents Check Print 100 % Cotton XXXL https : //t.co/VkdHTx1Li4 https : //t.co/66guEYikS4 ',\n",
              " 'BOOTCAMP VIDEO BLOG # 10 Who works hardest BOOTCAMP ? @ ls_conditioning jordandarwinpt\\x89Û_ https : //t.co/760q5mIqw2 ',\n",
              " 'The always-awesome @ laura_hudson nails . The Walking Dead good . https : //t.co/10QPxKGJ8L ',\n",
              " 'I one question : Have asleep concert made drugs ? https : //t.co/MtnWMRAsbJ ',\n",
              " 'Stark streets , Dothraki sheets . ',\n",
              " \"That 'll put great mood rest day \\x89÷¼\\x95ü\\x8f \",\n",
              " \"@ lingle_faith Way go , Faith ! We 're excited welcome Purdue family . # BoilerUp \",\n",
              " \"We friends coming stay week , 've cracked open Halloween decs . Although Oscar\\x89Û_ https : //t.co/Rk50Mgs6Pu \",\n",
              " \"Noah 's sister called `` fucking brat '' 's best . # TheAffair \",\n",
              " 'Star Trek Awakens ( Star Wars : The Force Awakens & amp ; Star Trek Mashup Trailer ) via /r/movies https : //t.co/0hgH9kcibF ',\n",
              " 'Have following Imperfect Mom Confessionals ? Love @ yourVibrantFamily & amp ; @ busybeingblessed https : //t.co/JXgXl5fT5n ',\n",
              " 'Am I one sees Yunho Hoya ... ',\n",
              " 'If I stop tweeting battery died lab exploded ',\n",
              " '@ CamMeekins fuck man.. happened lamp city days ? You sold faster I expected.. ',\n",
              " 'Eliminate risk & amp ; attain higher achievement avoiding 7 Deadly Sins Project Mgmt - Join us # pmot https : //t.co/5I0UdL5aky ',\n",
              " 'Farm school ; food ends children trash . https : //t.co/aMOb2LkiUe @ WasteDive ',\n",
              " \"Like old cartoon song says ... . '' n't ya put mouth '' says WTO everything . Living kill I guess . \",\n",
              " 'sometimes depth find others makes impossible hide damage , instead forces us refine definition ',\n",
              " 'People say im stupid im suppose hush yall shit . Fuck ',\n",
              " 'Walking best person ever @ KaileiMadison ',\n",
              " '@ MelosMuse I say stomach sensitive , bug I weekend making look everything sideways ',\n",
              " 'Yelp reviews barber shops unhelpful thing , every review 5 1 star . No . ',\n",
              " 'Great deals new items Bass Pro marathon expo weekend ! https : //t.co/LGxc1VVcYP ',\n",
              " 'Look Day \\x89Û÷Pastel Colours\\x89Ûª https : //t.co/i8NQ9d4goK @ bloglovin ',\n",
              " '@ LukeIsNotSexy I WISH YOU WOULD NOTICE ME BC I KNOW YOU AND WE WENT TO THE SAME PRIMARY SCHOOL AND ITS SO EXCITING IM CRYING ',\n",
              " \"'1989 ' spends full year Top 10 - https : //t.co/3DHaJ9FOJ6 https : //t.co/B1lNcePGcD \",\n",
              " 'What actual fuck https : //t.co/Wb8DIH9kVS ',\n",
              " 'A sabre-tooth tiger Daniel , age 5 half . Inspired trip Natural History Museum , \\x89Û_ https : //t.co/hYhYNQiYLX ',\n",
              " 'FirstWorldParli : # GE2015 Pioneer Generation betrayed PAP Regime https : //t.co/yYJ5AYmvIB # sgelection \\x89Û_ https : //t.co/MXZFTcXzfs ',\n",
              " 'On page 311 387 The Martian , Andy Weir https : //t.co/j62o0QlNwC ',\n",
              " 'P2 room 4 working co-operatively find jigsaw numbers 10 https : //t.co/arxApTwpJH ',\n",
              " 'The boys manners came letting girls get food first ',\n",
              " 'Generate Leads The New Twitter App . https : //t.co/BU8o7kjAgc # homebusinessentrepreneur # workfromhome # mlm https : //t.co/Bk4avStRY9 ',\n",
              " \"@ mgsisk This page . The whole question , 's . \",\n",
              " 'WHERE DO YOU EVEN FIND THE TIME https : //t.co/koC8aWcgff ',\n",
              " 'booty dont taste good @ Callum_Dickson https : //t.co/NTTHsXZZaa ',\n",
              " 'doctors think got time world sit small dry ass room ',\n",
              " \"@ morggray I know like srsly ? ? ? One day special `` Mile high meat loaf sandwiches '' wtf \",\n",
              " \"`` Baseball '' quotes 's name WKRP episode , 's alien term . Even though kind . \",\n",
              " \"@ 4nnakitty I feel I 'd \",\n",
              " \"@ BarstoolJJ @ keegs141 Janice 's situation change genders reversed . Asking friend \",\n",
              " 'Everyone come CBAC @ 7:00 witness 3rd edition Olathe Derby_Ù\\x90_\\x89__\\x95ü\\x8f # sweepsouth ',\n",
              " \"@ PG_ESAM 's best air move ? Is reliable characters good air game ? I get juggled air way much . \",\n",
              " 'Just whipped fye blackened fish salad _Ù÷Ü_Ù÷Ü ',\n",
              " \"If written wishlist piece @ MotelRocks latest competition network - DO N'T FORGET TO UPLOAD IT ! # fbloggers \",\n",
              " 'This wan improvement roasting videos https : //t.co/PtI1NVcMdF ',\n",
              " '@ BlizzardCS When chosen accounts flagged ? ',\n",
              " 'EVERYDAYDAYILOVEYOU Forevermore Weep heroine\\x89Ûªs desperation . # PushAwardsLizQuens ',\n",
              " 'Shannon better hop fuck feelings . ',\n",
              " 'EVERYDAYDAYILOVEYOU Forevermore Weep heroine\\x89Ûªs desperation . # PushAwardsLizQuens ',\n",
              " 'EVERYDAYDAYILOVEYOU Forevermore Weep heroine\\x89Ûªs desperation . # PushAwardsLizQuens ',\n",
              " '290 light never done raid - Will LFG people invite ? https : //t.co/JZW0pdkIet ',\n",
              " \"There 's nothing indicate 's things play course season playoffs . \",\n",
              " '# nbaseason back , let lion roar & amp ; roster stay healthy @ KingJames https : //t.co/EKtPTp5KGC ',\n",
              " \"@ TeganRich The thing makes us subscription sampling , ca n't different . We focus retail \",\n",
              " 'EVERYDAYDAYILOVEYOU Forevermore Weep heroine\\x89Ûªs desperation . # PushAwardsLizQuens ',\n",
              " '# Photo : I like # party weekends ... https : //t.co/VqMxn6EXxt # girlnextdoor # pickuplines https : //t.co/fvg2elecpi ',\n",
              " 'fucking ignorance people school actually makes sick https : //t.co/5DqRK2vASW ',\n",
              " '@ SimpleTurtles Hey Simple Turtle crew ! Thanks follow . Your site piqued interest , looks like great service WP users . ',\n",
              " 'Relive life one 40s & amp ; 50s popular singers , \\x89Û÷Singing Bobby\\x89Ûª # JosefLocke https : //t.co/kEVxkGtVKY https : //t.co/BKoe5KaCfW ',\n",
              " 'When plans Halloween , oh wait Netflix plan _ÙÔÈ_ÙÔÈ ',\n",
              " \"The million @ realDonaldTrump got dad would worth gazillion today inflation . He 's lost trillions ! ! ! # Trump2016 \",\n",
              " 'The calm storm # theoffer https : //t.co/nm7BUK63VY ',\n",
              " 'Stats day arrived . 2 new followers NO unfollowers : ) via https : //t.co/VhlxF1UCcT . ',\n",
              " 'Our friends @ knoxmercury took in-depth look 2016 # BigEarsKnox lineup . Explore : https : //t.co/wFnNwhcga2 ',\n",
              " \"Did n't keep tech news last week ? Here five biggest things missed : https : //t.co/0WlOLZYyn5 # businesstech \",\n",
              " \"The O'Jays - Used To Be My Girl # NowPlaying https : //t.co/3NKeWBY8zH \",\n",
              " \"If Hillary Clinton serious VA opinion , 'd show VA Hospital unfiltered conversations Vets . She wo n't . \",\n",
              " 'How hell Pikachu damage Arceus ',\n",
              " 'The real rick Ross rapper https : //t.co/eGcm8BOXMh ',\n",
              " 'When see booty_Ù÷\\x8d_Ù÷â https : //t.co/RQ72SQiMM4 ',\n",
              " 'Somedays spend majority day bed christmas lights attempting homework # atleastishowered ',\n",
              " 'The Invisible Superhero https : //t.co/flwwWhiF8q # money # dogecoin # bitcoin # news , åÊ # love , åÊ # photography , # fashion , åÊ # health , åÊ # fail # jobs , åÊ # busi\\x89Û_ ',\n",
              " '@ StrigoiBolivar - right moment strike* ',\n",
              " \"I 'm finna whole hood wearing Dickie suits . \",\n",
              " '@ broseffdylan ahh well associating bestie therefore interview _Ù_Ñ get excited ',\n",
              " \"@ nourryz I love boys music n't dominate artists_ÙÔÛ \",\n",
              " 'Live California Dream ! Hiring Experience ER Nurse Full-Time ! -CE Health Careers ( # Glendale , CA ) # Nursing # Job https : //t.co/UkoWuSNT1S ',\n",
              " '@ bbclaurak Lady Hollis . If wins scupper Bill ? ',\n",
              " \"Late Night Shout Out Ms.Cobbler aka @ malpapadam 's already passed Barley cupcakes . \",\n",
              " 'Gym best therapy ',\n",
              " \"I 've called dinner 3 times one appeared . Wondering whether disconnect Wifi trip upstairs sockets ... \",\n",
              " \"Also n't forget tomorrow plaid day ! At lunch pumpkin carving caf get quick show talent ! _Ù_Ä_Ù_Ä \",\n",
              " '@ mtmlegal Apologies delay service , I see due road vehicle striking bridge ',\n",
              " 'WHO BUILT THE # PYRAMIDS ? ? ? WHY WERE THEY # BUILT AND WHATS THEIR # PURPOSE RIGHT NOW ? ... . # light_questionZ ',\n",
              " 'Hunting Wild Value-Add # Retail & gt ; & gt ; https : //t.co/R329AfXMXn via @ Bisnow # CRE ',\n",
              " \"Mondesi 's LHB position flexibility would strength RHB Colon v.heavy RHP Mets . A huge huge test last game though . \",\n",
              " \"@ wvvvxs 's best feeling ever bro lol \",\n",
              " \"Which # Bond took , martinied seduced ? Here 's fun graph . Lazenby hound . https : //t.co/lF9XMDouk8 \",\n",
              " 'The Gannets Muriwai NZ @ NISICAROL1 great place visit @ LocalAuckland @ Auckland_NZ https : //t.co/V8hl3i6Rfe ',\n",
              " '@ TheClemReport looks little dark . They skimped cream ',\n",
              " '@ spencerhuntosu Undertaking monumental task confirming attendance 140 characters possible communication # lanternclass ',\n",
              " '@ AMAZINGSIVAN @ livelysugg @ dxbrevsmolder @ oakleysnutella @ Joe_Sugg shade drag ',\n",
              " 'Qmd ir ao rock rio 2016 para ver weeknd ',\n",
              " 'one day maintenance happen stored database information sold tadah . might really try journal ',\n",
              " \"@ NotJoshEarnest I went college standard GPA get . Is n't case anymore ? Or go color ? \",\n",
              " 'Still probably going super bowl ',\n",
              " \"@ MaddisonT2376 @ JustinDBVoter lyrics video mv I 'm sure held record fastest video reach 1M Likes . \",\n",
              " '@ jackyalcine rent Moscone , get permit shut street in-between different buildings , fill 100K people . ',\n",
              " 'How permanently delete Facebook account - The Apple Insider https : //t.co/ISuqWOKDO2 # YummyApple ',\n",
              " 'I liked @ YouTube video https : //t.co/GWlLcbK01p The Ancient Greek Kithara ',\n",
              " \"@ ENAML woow plz n't ask violate rules.. \",\n",
              " '@ MaddyDiemer woah tweeted thing , twins ',\n",
              " 'Adele hits right feels ',\n",
              " \"@ GirlOnUtd I still n't know . There definite movement arm ca n't tell whether arm chest . \",\n",
              " '@ TMfanSupport presale code US Bank Arena Emotional Roadtour ? ',\n",
              " 'I dont understand passport issued Indian Officials one wanted criminals since 20 years ? # ChotaRajan ',\n",
              " 'Lunar mana-the polished renewable mastery remedial realm power : wkYoE ',\n",
              " 'The main strength relative elfdom shopper : KCK ',\n",
              " \"Excited see @ kevinwatson Bishop 's Symposium week ! # JohnWesley # classmeeting # discipleship # holylife \",\n",
              " 'English mustard best condiment world , discuss ',\n",
              " '@ supremeproducts check new saddlery open @ westmidsaddlery , everday bargains store online ',\n",
              " \"@ NBA play moment games tied time 's running . We BIG play . # ThisIsWhyWePlay # Sweepstakes \",\n",
              " 'I almost got ran valet_Ù÷É ',\n",
              " 'flyswatter gas station ',\n",
              " '@ 5sosupdateplace feel ya , seemed intimate minus cameras ... ~ Kayleigh ',\n",
              " \"*NON-SPOILER ALERT* I ca n't believe thing happened favorite character last night 's episode popular show ! \",\n",
              " '@ PruGayton thanks support . ',\n",
              " 'Easy , easy Pull heart To make alone Easy , easy ',\n",
              " \"Everybody 's got nice/pretty eyes days . Is thing ever compliment people with.. smh \",\n",
              " '@ tisanb sang jagaban song ? ',\n",
              " '@ RodBelgrave @ pabmanjo The workers , suppliers , local businesses reliant steelworks ... .they move eh- wankers ! ',\n",
              " \"If impl.of compassion strategy becomes å£ 've missed point # LSBUCiP-this # hearts & amp ; minds @ JuneinHE https : //t.co/RMfytaDT0y \",\n",
              " \"@ uhohmamamia I 'm coming see soon ! The next time . AWH . OMG . \\x89\\x9d_\\x95ü\\x8f\\x89\\x9d_\\x95ü\\x8f\\x89\\x9d_\\x95ü\\x8f \",\n",
              " \"Grimes Throws Fun , Bloody Party `` Flesh Without Blood '' Video https : //t.co/lLZ3JSOUpC Matthew Strauss Molly\\x89Û_ https : //t.co/zXuhbSbNnt \",\n",
              " \"When people used say `` woke '' I assumed woke . Stfu gay slang . \",\n",
              " 'Be one guys always stay top game new @ STXmlax gear https : //t.co/ZzG6siaFV3 https : //t.co/X4PpP0AwMx ',\n",
              " '# breaking Renton motorcycle officer hit car -- way Harborview critical condition . @ KIRO7Seattle ',\n",
              " 'A cutting word worse bowstring cut may heal cut tongue . African Proverb : -D ',\n",
              " '@ Irisleah94 showing everybody true side ',\n",
              " '@ HaggisAdele seemed control talking paramedics . Fingers crossed . ',\n",
              " 'The leverage utilization transcendently fortunate organ signs manchester : bqA ',\n",
              " '@ kiimboog throw @ Kim ',\n",
              " \"@ DiscreetLatino It 's like 5 min mine . I 'm going start hanging brother reg . \",\n",
              " '@ NicoRafa54 thanks unkind words , signed guy follow Twitter . ',\n",
              " \"Bloody hell I try leave later I 'm still first one \",\n",
              " \"Things I learned today : TJ McConnell Suzie McConnell Serio 's nephew ( brother ) & amp ; Elle King daughter Rob Schneider . \",\n",
              " 'Best Mexican restaurants area ? https : //t.co/YhshB0mlw3 ',\n",
              " 'Sadelain : next ? New targets , increased potency , combinatorial therapies next gen CAR coming clinic next year # TMM15 ',\n",
              " \"Also super grateful I 've never drawn SU fanart lord knows world would I used wrong skin shades hair textures \",\n",
              " 'Poster making LV/LL game Wednesday school till 4:30 ! _Ù\\x90__Ù\\x90_ ',\n",
              " 'Cherokee syllabary - Wikipedia , free encyclopedia https : //t.co/YpmTp7jJ5S ',\n",
              " \"If I O'Brien 's presser I 'd ask running Arian Foster fourth quarter blowout loss ... # texans \",\n",
              " \"@ withthemoonblog I 'm Spectre Premiere either . Just know . \",\n",
              " 'You always got ta prepared Twitter videos start moaning ',\n",
              " \"Stormin ' castle # JEFFTheBrotherhood ! @ jeffbrotherhood @ infinitycat # infinitycat # vinyl https : //t.co/IJ9O0Bbwy9 \",\n",
              " 'I blister size quarter bottom foot : ) ',\n",
              " 'Join Labour Party become Lord . Get good abstaining . Spineless tossers . Only vermin wear ermine . # taxcredits ',\n",
              " \"Klaus gon na leering across street kengoku ? That 's weird . # TheOriginals \",\n",
              " 'Verizon Asks FCC For Waiver Launch Wi-Fi Calling - The Apple Insider https : //t.co/Cg85EqZHPx # YummyApple ',\n",
              " \"WhatsApp 's Co-Founder Exlpains How The Iconoclastic App Got Huge While Staying So Small https : //t.co/7Zjp1Y3OBi \",\n",
              " '@ ChrisTomalty 3/3 able promise estimated delivery date . ^RS ',\n",
              " \"The one Spanish class I need filled : ' ) \",\n",
              " '@ dyn_porn Id follow shit ends earth _ÙÔÛ ! ! ! ',\n",
              " 'Where hell lolisa _Ù÷Á ',\n",
              " 'John Fogerty predicts Mets win Series 7 . ',\n",
              " 'Happy birthday oga top @ ukenyatta # MyPresident ',\n",
              " 'Pick piece watch seem touching teak computerized typesetting : xIYQmj ',\n",
              " 'Join Island Hotel Newport Beach team ! See latest # Hospitality # job opening : https : //t.co/dVA0CX3AvX # NewportBeach , CA # Hiring ',\n",
              " \"Assuming Donald Trump got $ 1m loan 18 , 's equivalent $ 7,675,645.16 today . \",\n",
              " 'Finally getting round watching @ lesmisofficial 30th Anniversary Finale ! ! ! So excited ! ! ! _Ù÷ã _ÙàÇ_Ùàá ',\n",
              " \"So hard positive life n't going way planned \",\n",
              " '@ unclutching aweeeee well The world I end following list ? _Ù÷¥ ',\n",
              " 'Prepaid mobiles ___â\\x89ÛÏ phoenix decoction mark expenses anent prepaid services : cJl ',\n",
              " '@ Z100NewYorkIf I got # Z100FutureNow chance hang w/ # DemiLovato & amp ; # NickJonas would amazing ! ! I love Both ',\n",
              " 'Return verdict overwhelm step forward jar preferred curtain near tunk anent high mortise ! : gkQ ',\n",
              " '@ justinjwelch28 struggle hahaha I skinner guy hook truck time ',\n",
              " 'The amount money I blowing month .. BRB KILL MYSELF ',\n",
              " 'The Inside Story How Chicago Built Dearborn Street Bike Lane https : //t.co/OeMVNYBQKN ',\n",
              " 'Presenting mastership annual-other self washroom claim macrocosm point benefits pertinent present- ... ',\n",
              " \"@ CAPYGAMES Microsoft banned speaking Below coming ps4 ! ? Why ca n't answer beyond robotic `` simultaneous PC & amp ; xbone '' \",\n",
              " '@ DavidBraben not-as-impressive effort porting game os x ? classic FD . ',\n",
              " 'Thank @ sergiusescobar speaker # EveryEntrepreneur Tour stop # Montreal ! https : //t.co/cmUh8OJtnv ',\n",
              " 'ex gave best morning text maybe got use ',\n",
              " '@ EkPegAur haha , next time gift person half joint scolds ask him/her come office time next day : p @ AnuBomb ',\n",
              " \"getting sick bathroom girl stall beside eating carrots apple like 're nasty \",\n",
              " \"@ jeff_gluck I 'm group . I guess good news I 'll wait five years disappointed opposed annual disappointment \",\n",
              " 'The mining married love online tissue stores inflowing latter years : nGl ',\n",
              " 'Photo @ kikeo : A great white # shark smiles camera swimming coast # Mexico . natgeocreat\\x89Û_ https : //t.co/bcNFwaphrO ',\n",
              " 'Thank hardfightingsoldier top ! You even guessed favorite colors ! _Ùª\\x8f_Ù\\x8f__ÙÕÑ # love\\x89Û_ https : //t.co/TUORaMa3Zz ',\n",
              " '@ peer_jeff A Convention States last hope restore Liberty ! Sign petition @ https : //t.co/QkStgr8jUf \\x89Û_ https : //t.co/4BnA0LE24p ',\n",
              " \"@ MarinasDiamonds redefined word 'performing ' last night https : //t.co/2fC7Ky4bKk \",\n",
              " 'Feeling mood bit # writing - Vellum # Pilot back track ! ! ! @ ElliotMPhotos @ sgfgee @ MarinaLouisaX @ ghostmedialtd # TVSeries ',\n",
              " \"W/ 's different let show difference \",\n",
              " 'Everything past better , stronger efficient . Take back ! # bdib ',\n",
              " '@ tomlinhxrry hope amazing night tonight & amp ; im praying boys notice & amp ; sign , truly deserve it_ÙÕ\\x9d_ÙÕ\\x9d ',\n",
              " 'The moon tonight though ... ',\n",
              " 'CONNECTICUT - I @ COMIXmohegansun Friday & amp ; Saturday . I one costume telling dick jokes . ',\n",
              " 'I looking ads SuperGirl . I wondering fan Rolling Stones . I remember ... https : //t.co/qWCHNlNKZH ',\n",
              " 'Join The MENTOR Network team ! See latest # Healthcare # job opening : https : //t.co/2YudPlqU1y # Edina , MN # Hiring # CareerArc ',\n",
              " '15 Times People Use Selfie Sticks Wrong Way https : //t.co/HoG8ZGNYUw ',\n",
              " 'best cousin ever @ _arleneaguero _Ù÷__ÙÕÏ ',\n",
              " \"This second last shot swamp . I loved spot much I ca n't wait go back\\x89Û_ https : //t.co/NCcMbKp1qK \",\n",
              " 'Looking General Labour work GTA ? Call us . # Vaughan # Scarborough # jobs Apply https : //t.co/ANOtSMS2J3 https : //t.co/sJMEfovG29 ',\n",
              " 'Hope get better soon @ TheTideNate ! ! Sending love Ohio ! _Ù÷__Ù_\\x81_ÙÕ¥_Ù_÷_Ù\\x8fÈ -Libby & amp ; lacey https : //t.co/Ab2wFMxTxh ',\n",
              " \"@ chitlesh I 'm thinking vendor perspective `` switches/features/support/etc , using '' \",\n",
              " 'How I get weekends _Ù÷_ ',\n",
              " 'Dawg really last week October . ',\n",
              " \"I 'll take triforce Dinner . \",\n",
              " 'What common mistakes made venture capitalists ? https : //t.co/e3K8YB1UUg ',\n",
              " \"Makes heart happy cat dog cuddle I 'm laying bed _Ù÷Î \",\n",
              " \"It 's 10 minutes 's still one electronics department help ... ... \",\n",
              " 'Fantastic launch @ Snapdeal All apps run smoothly OnePlus One thanks quad core processor ! https : //t.co/2yMa7R3PcU 4741 ',\n",
              " '# nyrrvirtualtrainer I truly wan na enjoy ! ',\n",
              " 'The Big Sleazy\\x89Ûªs Insane Governor\\x89Ûªs Race https : //t.co/wM3pxiCeDt via @ thedailybeast ',\n",
              " \"`` CPD would kill ? For see scene would obscene see someone color shot cold blood one would say 'so ' '' \",\n",
              " \"It 's clear # doctors factor patients everyday living care plan . # mhealth # innovation https : //t.co/KEY0fj0bCH \",\n",
              " 'PHOTOS : 50 MCSO mug shots week https : //t.co/gBsM5oZBSH # abc15 https : //t.co/g6fOeRFYKF ',\n",
              " 'Lovely model mast_urabting outdoors backyard https : //t.co/qkxpbwlw1o ',\n",
              " '@ glamwalker45 thanks follow : - ) ',\n",
              " '@ chrissyATC way , obviously also DM . The detailed , detailed ill ( If even makes sense ) ',\n",
              " 'IdeaGrove : Find difference # SEO # contentmarketing , one can\\x89Ûªt exist without https : //t.co/POsjkAHRwS b\\x89Û_ ',\n",
              " \"I hate I 'm looking threw twitter I come upon someone I 'm following never hit follow button ... Immediate unfollow .. \",\n",
              " '@ TeamPrinceN options b Mandana n Prince instead digangana n prince ',\n",
              " \"Subdued current archwitch `` PARENTALIA '' ! https : //t.co/gYv8Ta7aIc # Valkyrie Crusade \",\n",
              " \"I n't outfit picked , I hairstyle picked ! \",\n",
              " 'I entered Quality . Time . instant win game & amp ; sweepstakes @ LandsEnd ! https : //t.co/gjAtPZQIrP ',\n",
              " 'Twitter Just Changed The Live-Tweeting Game Forever - My PrimeTime Outlet https : //t.co/psmkK4ttne ',\n",
              " 'The Impudence Rabiu Kwakwanso Fulani brothers - FFK : Written Femi Fani-Kayode ... Read below..I ... https : //t.co/cdmMLhZGbE ',\n",
              " 'GOP candidates set debate economy , disaster looming background https : //t.co/akRuEgPfG5 https : //t.co/urUnPjQnuO ',\n",
              " 'A Saudi prince Florida Man money . Allegedly . https : //t.co/xyQ80XtWAx ',\n",
              " \"But either way , 're literally exploiting poor produce vanity . \",\n",
              " 'When I drive I like look defender eyes say AND1 ',\n",
              " 'need ',\n",
              " 'excited weekend_Ù÷Ï ',\n",
              " \"@ Dnastysack @ Yung_Teejay I n't get joke _Ù÷\\x90_Ùªã \",\n",
              " \"Definitely smell green oranges train . That 's fragrance glade n't cornered market . \",\n",
              " 'Maximize fun Akumal beach kids https : //t.co/KOc42xqiHf ',\n",
              " 'Oh ! The things @ REGYATES deal hear whilst Russia unbelievable ! That country need reevaluate views ! ',\n",
              " '@ prssassu @ PRSSA_LUM Get chapter involved & amp ; watch # PlankMentor Awards Ceremony LIVE [ 10/29 @ 9 PM EST ] https : //t.co/GewaUTAEcD ',\n",
              " 'weekend already _Ù÷©\\x89ÏÎ_Ù\\x8f_\\x95ü\\x8f ',\n",
              " 'CABS members attacked Spain : During early hours morning two Italian bird guards confronted ... https : //t.co/Q844J18ylT ',\n",
              " 'Become member & amp ; see resources offer EYTs ! New blog added today resources @ TTS_EarlyYears https : //t.co/aPeEVrvFbr ',\n",
              " 'Visited Beautiful Normanton Church today decided test Double Exposure feature 6D ... https : //t.co/tETa9nMk2q ',\n",
              " 'Mr G x hotline bling definitely best ',\n",
              " 'Kingfisher : kban2011 added photo pool : https : //t.co/IpcCX7zUDa ',\n",
              " '@ emmacmodel Hello babygirl ! ! I miss ! ! ! Are going # prpawards next week ? ? ? X ',\n",
              " \"Having slight feelings people n't worst \",\n",
              " \"What Nation Will Be Talking About After Wednesday 's GOP Debates https : //t.co/sIOlRf9G0f \",\n",
              " \"I 'd cut slack . Give chance redeem . Pay meal way ... . https : //t.co/w5H9LOat8W \",\n",
              " 'tell truth awful lie . number 5 Copper Creek Golf Course Farmington\\x89Û_ https : //t.co/H1qtHkvui9 ',\n",
              " '# Massachusetts film tax credits transferred outside film industry . https : //t.co/VtWeK658Gg https : //t.co/C8M6OQM9uv ',\n",
              " \"@ RockyRoark n't seem matter since select featured site . It depends promote via social media \",\n",
              " 'Voting I HAVE Made A Difference- People\\x89Ûªs Choice Award open ! Cast vote : https : //t.co/PYromwAJ36 # iamWGVU ',\n",
              " '1830 The History Description Town Borough Ipswich First Clarke https : //t.co/v2Kg3q4rYS https : //t.co/lY55FmQPTZ ',\n",
              " \"I saw boys second time 6.11.13 's nearly coming date _Ù÷_ \",\n",
              " \"Check largest pink diamond ever auctioned , price tag starts å£15m : It 's called Rare 'Fancy V ... https : //t.co/NJXEZXpxEy \",\n",
              " 'need help guys page costume party mara wearing green emerald dress ( mara dyer ) ? ',\n",
              " 'Do things Love , even hurts , seems unfair ; end , love conquer . ',\n",
              " \"You know come n see 1d n 're front row n't let white line _Ù÷¥ https : //t.co/5HUbXWwxWx \",\n",
              " \"@ kaijday Haha , I would n't panic . Sheffield United hand quaking boots . \",\n",
              " '@ iamBELLA___ ayo go 215 exposure page ',\n",
              " 'In dreams next superhero show lead woman colour Flarrow producers nothing ',\n",
              " 'On December 1st , whos ready destroy world # justcause3 ! ? # gaming # ps4 # xboxone # pc https : //t.co/lnn6pK6aMW ',\n",
              " 'Pied Wagtail : chrispenrice added photo pool : Pied Wagtail Morecambe Bay https : //t.co/eQMjvhSlYn ',\n",
              " 'get man dick _Ù÷â_Ù÷â sheesh https : //t.co/70yqF3lx4h ',\n",
              " ...]"
            ]
          },
          "metadata": {
            "tags": []
          },
          "execution_count": 445
        }
      ]
    },
    {
      "cell_type": "code",
      "metadata": {
        "id": "D_xDjMdif4ZU",
        "colab_type": "code",
        "colab": {}
      },
      "source": [
        "dt['cleanText']=cleanText"
      ],
      "execution_count": null,
      "outputs": []
    },
    {
      "cell_type": "code",
      "metadata": {
        "id": "5O8DjIFgf4ZW",
        "colab_type": "code",
        "colab": {}
      },
      "source": [
        "import re\n",
        "def cleaning(s):\n",
        "    s = str(s)\n",
        "    s = s.lower()\n",
        "    s = re.sub('\\s\\W',' ',s)\n",
        "    s = re.sub('\\W,\\s',' ',s)\n",
        "    s = re.sub(r'[^\\w]', ' ', s)\n",
        "    s = re.sub(\"\\d+\", \"\", s)\n",
        "    s = re.sub('\\s+',' ',s)\n",
        "    s = re.sub('[!@#$_]', '', s)\n",
        "    s = s.replace(\"co\",\"\")\n",
        "    s = s.replace(\"https\",\"\")\n",
        "    s = s.replace(\",\",\"\")\n",
        "    s = s.replace(\"[\\w*\",\" \")\n",
        "    return s\n",
        "\n",
        "dt['cleanText'] = [cleaning(s) for s in dt['cleanText']]"
      ],
      "execution_count": null,
      "outputs": []
    },
    {
      "cell_type": "code",
      "metadata": {
        "id": "nmAhUZ68f4ZX",
        "colab_type": "code",
        "colab": {}
      },
      "source": [
        "import re\n",
        "\n",
        "def preprocessor(text):\n",
        "    \"\"\" Return a cleaned version of text\n",
        "    \"\"\"\n",
        "    # Remove HTML markup\n",
        "    text = re.sub('<[^>]*>', '', text)\n",
        "    # Save emoticons for later appending\n",
        "    emoticons = re.findall('(?::|;|=)(?:-)?(?:\\)|\\(|D|P)', text)\n",
        "    # Remove any non-word character and append the emoticons,\n",
        "    # removing the nose character for standarization. Convert to lower case\n",
        "    text = (re.sub('[\\W]+', ' ', text.lower()) + ' ' + ' '.join(emoticons).replace('-', ''))\n",
        "    \n",
        "    return text\n"
      ],
      "execution_count": null,
      "outputs": []
    },
    {
      "cell_type": "code",
      "metadata": {
        "id": "CpRnYG0kf4ZZ",
        "colab_type": "code",
        "colab": {}
      },
      "source": [
        "from nltk.stem import PorterStemmer\n",
        "\n",
        "porter = PorterStemmer()\n",
        "\n",
        "def tokenizer(text):\n",
        "    return text.split()\n",
        "\n",
        "def tokenizer_porter(text):\n",
        "    return [porter.stem(word) for word in text.split()]"
      ],
      "execution_count": null,
      "outputs": []
    },
    {
      "cell_type": "code",
      "metadata": {
        "id": "oBBXl6zof4Zb",
        "colab_type": "code",
        "colab": {}
      },
      "source": [
        "from sklearn.preprocessing import LabelEncoder\n",
        "\n",
        "encoder = LabelEncoder()\n",
        "y = encoder.fit_transform(dt['gender'])\n",
        "# split the dataset in train and test\n",
        "X = dt['cleanText']\n",
        "X_train, X_test, y_train, y_test = train_test_split(X, y, test_size=0.3, random_state=0, stratify=y)\n",
        "#In the code line above, stratify will create a train set with the same class balance than the original set"
      ],
      "execution_count": null,
      "outputs": []
    },
    {
      "cell_type": "code",
      "metadata": {
        "id": "DIOnD5b0f4Zc",
        "colab_type": "code",
        "colab": {},
        "outputId": "1fc5b05a-bfd6-414a-c91a-6c6b87400509"
      },
      "source": [
        "from sklearn.linear_model import LogisticRegression\n",
        "\n",
        "tfidf = TfidfVectorizer(lowercase=False,\n",
        "                        tokenizer=tokenizer_porter,\n",
        "                        preprocessor=preprocessor)\n",
        "clf = Pipeline([('vect', tfidf),\n",
        "                ('clf', LogisticRegression(multi_class='ovr', random_state=0))])\n",
        "\n",
        "clf.fit(X_train, y_train)\n",
        "\n",
        "predictions = clf.predict(X_test)\n",
        "print('Accuracy:',accuracy_score(y_test,predictions))\n",
        "print('Confusion matrix:\\n',confusion_matrix(y_test,predictions))\n",
        "print('Classification report:\\n',classification_report(y_test,predictions))"
      ],
      "execution_count": null,
      "outputs": [
        {
          "output_type": "stream",
          "text": [
            "Accuracy: 0.5835345243843554\n",
            "Confusion matrix:\n",
            " [[ 830  141  165]\n",
            " [ 218 1036  356]\n",
            " [ 247  598  551]]\n",
            "Classification report:\n",
            "               precision    recall  f1-score   support\n",
            "\n",
            "           0       0.64      0.73      0.68      1136\n",
            "           1       0.58      0.64      0.61      1610\n",
            "           2       0.51      0.39      0.45      1396\n",
            "\n",
            "    accuracy                           0.58      4142\n",
            "   macro avg       0.58      0.59      0.58      4142\n",
            "weighted avg       0.58      0.58      0.58      4142\n",
            "\n"
          ],
          "name": "stdout"
        }
      ]
    },
    {
      "cell_type": "code",
      "metadata": {
        "id": "t6o3D39Xf4Ze",
        "colab_type": "code",
        "colab": {},
        "outputId": "513363ed-aad2-4124-e42c-015f3d73b996"
      },
      "source": [
        "from sklearn.ensemble import RandomForestClassifier\n",
        "# Plot the correlation between n_estimators and accuracy\n",
        "n = range (1,100,10) #step 10\n",
        "\n",
        "results = []\n",
        "for i in n:\n",
        "    clf = Pipeline([('vect', tfidf),\n",
        "                ('clf', RandomForestClassifier(n_estimators = i, random_state=0))])\n",
        "    clf.fit(X_train, y_train)\n",
        "    predictions = clf.predict(X_test)\n",
        "    results.append(accuracy_score(y_test, predictions))\n",
        "plt.grid()\n",
        "plt.scatter(n, results)"
      ],
      "execution_count": null,
      "outputs": [
        {
          "output_type": "execute_result",
          "data": {
            "text/plain": [
              "<matplotlib.collections.PathCollection at 0x1f104b2d088>"
            ]
          },
          "metadata": {
            "tags": []
          },
          "execution_count": 456
        },
        {
          "output_type": "display_data",
          "data": {
            "image/png": "[encoded data removed]",
            "text/plain": [
              "<Figure size 432x288 with 1 Axes>"
            ]
          },
          "metadata": {
            "tags": []
          }
        }
      ]
    },
    {
      "cell_type": "code",
      "metadata": {
        "id": "82W49Ywdf4Zf",
        "colab_type": "code",
        "colab": {},
        "outputId": "a9413097-267b-43cf-d2cb-d3cc16f0ea7e"
      },
      "source": [
        "tfidf = TfidfVectorizer(lowercase=False,\n",
        "                        tokenizer=tokenizer_porter,\n",
        "                        preprocessor=preprocessor)\n",
        "clf = Pipeline([('vect', tfidf),\n",
        "                ('clf', RandomForestClassifier(n_estimators = 40, random_state=0))])\n",
        "\n",
        "clf.fit(X_train, y_train)\n",
        "\n",
        "predictions = clf.predict(X_test)\n",
        "print('Accuracy:',accuracy_score(y_test,predictions))\n",
        "print('Confusion matrix:\\n',confusion_matrix(y_test,predictions))\n",
        "print('Classification report:\\n',classification_report(y_test,predictions))"
      ],
      "execution_count": null,
      "outputs": [
        {
          "output_type": "stream",
          "text": [
            "Accuracy: 0.5627716079188798\n",
            "Confusion matrix:\n",
            " [[ 729  240  167]\n",
            " [ 154 1118  338]\n",
            " [ 198  714  484]]\n",
            "Classification report:\n",
            "               precision    recall  f1-score   support\n",
            "\n",
            "           0       0.67      0.64      0.66      1136\n",
            "           1       0.54      0.69      0.61      1610\n",
            "           2       0.49      0.35      0.41      1396\n",
            "\n",
            "    accuracy                           0.56      4142\n",
            "   macro avg       0.57      0.56      0.56      4142\n",
            "weighted avg       0.56      0.56      0.55      4142\n",
            "\n"
          ],
          "name": "stdout"
        }
      ]
    },
    {
      "cell_type": "code",
      "metadata": {
        "id": "Ms9Bugzjf4Zj",
        "colab_type": "code",
        "colab": {},
        "outputId": "b75d26b0-4385-4a75-d092-4792c88ba994"
      },
      "source": [
        "from sklearn.svm import SVC\n",
        "tfidf = TfidfVectorizer(lowercase=False,\n",
        "                        tokenizer=tokenizer_porter,\n",
        "                        preprocessor=preprocessor)\n",
        "clf = Pipeline([('vect', tfidf),\n",
        "                ('clf', SVC(kernel = 'linear'))])\n",
        "clf.fit(X_train, y_train)\n",
        "predictions = clf.predict(X_test)\n",
        "print('Accuracy:',accuracy_score(y_test,predictions))\n",
        "print('Confusion matrix:\\n',confusion_matrix(y_test,predictions))\n",
        "print('Classification report:\\n',classification_report(y_test,predictions))"
      ],
      "execution_count": null,
      "outputs": [
        {
          "output_type": "stream",
          "text": [
            "Accuracy: 0.5816030902945437\n",
            "Confusion matrix:\n",
            " [[833 137 166]\n",
            " [241 984 385]\n",
            " [248 556 592]]\n",
            "Classification report:\n",
            "               precision    recall  f1-score   support\n",
            "\n",
            "           0       0.63      0.73      0.68      1136\n",
            "           1       0.59      0.61      0.60      1610\n",
            "           2       0.52      0.42      0.47      1396\n",
            "\n",
            "    accuracy                           0.58      4142\n",
            "   macro avg       0.58      0.59      0.58      4142\n",
            "weighted avg       0.58      0.58      0.58      4142\n",
            "\n"
          ],
          "name": "stdout"
        }
      ]
    },
    {
      "cell_type": "markdown",
      "metadata": {
        "id": "HGEAUmrkf4Zl",
        "colab_type": "text"
      },
      "source": [
        "# Adding content of Description into Text"
      ]
    },
    {
      "cell_type": "code",
      "metadata": {
        "id": "B9sK_TSJf4Zm",
        "colab_type": "code",
        "colab": {},
        "outputId": "66631650-9d29-479d-84c1-42da95a90782"
      },
      "source": [
        "#Fill NaN with empty string\n",
        "dt.fillna(\"\", inplace = True)\n",
        "# Concatenate text with description, add white space between. \n",
        "# By using Series helper functions Series.str()\n",
        "dt['text_description'] = dt['cleanText'].str.cat(dt['description'], sep=' ')\n",
        "\n",
        "dt['text_description'].isnull().value_counts() # Check if any null values, True if there is at least one."
      ],
      "execution_count": null,
      "outputs": [
        {
          "output_type": "execute_result",
          "data": {
            "text/plain": [
              "False    13804\n",
              "Name: text_description, dtype: int64"
            ]
          },
          "metadata": {
            "tags": []
          },
          "execution_count": 459
        }
      ]
    },
    {
      "cell_type": "code",
      "metadata": {
        "id": "6JtyHqu7f4Zo",
        "colab_type": "code",
        "colab": {},
        "outputId": "09296287-33cf-47cb-8e8d-8410cdba94c0"
      },
      "source": [
        "# split the dataset in train and test\n",
        "X = dt['text_description']\n",
        "y=dt['gender']\n",
        "X_train, X_test, y_train, y_test = train_test_split(X, y, test_size=0.3, random_state=0, stratify=y)\n",
        "#In the code line above, stratify will create a train set with the same class balance than the original set\n",
        "X_train.isnull().values.any() # Check if any null values, True if there is at least one."
      ],
      "execution_count": null,
      "outputs": [
        {
          "output_type": "execute_result",
          "data": {
            "text/plain": [
              "False"
            ]
          },
          "metadata": {
            "tags": []
          },
          "execution_count": 460
        }
      ]
    },
    {
      "cell_type": "markdown",
      "metadata": {
        "id": "vVmrxqvCghud",
        "colab_type": "text"
      },
      "source": [
        "# **Logistic Regression**"
      ]
    },
    {
      "cell_type": "code",
      "metadata": {
        "id": "b0Ee1c0if4Zp",
        "colab_type": "code",
        "colab": {},
        "outputId": "dc259f79-4124-450b-d6e3-9123c662bd07"
      },
      "source": [
        "from sklearn.linear_model import LogisticRegression\n",
        "\n",
        "tfidf = TfidfVectorizer(lowercase=False,\n",
        "                        tokenizer=tokenizer_porter,\n",
        "                        preprocessor=preprocessor)\n",
        "clf = Pipeline([('vect', tfidf),\n",
        "                ('clf', LogisticRegression(multi_class='ovr', random_state=0))])\n",
        "\n",
        "clf.fit(X_train, y_train)\n",
        "\n",
        "predictions = clf.predict(X_test)\n",
        "print('Accuracy:',accuracy_score(y_test,predictions))\n",
        "print('Confusion matrix:\\n',confusion_matrix(y_test,predictions))\n",
        "print('Classification report:\\n',classification_report(y_test,predictions))"
      ],
      "execution_count": null,
      "outputs": [
        {
          "output_type": "stream",
          "text": [
            "Accuracy: 0.6815548044422984\n",
            "Confusion matrix:\n",
            " [[ 948   81  107]\n",
            " [ 118 1184  308]\n",
            " [ 171  534  691]]\n",
            "Classification report:\n",
            "               precision    recall  f1-score   support\n",
            "\n",
            "       brand       0.77      0.83      0.80      1136\n",
            "      female       0.66      0.74      0.69      1610\n",
            "        male       0.62      0.49      0.55      1396\n",
            "\n",
            "    accuracy                           0.68      4142\n",
            "   macro avg       0.68      0.69      0.68      4142\n",
            "weighted avg       0.68      0.68      0.68      4142\n",
            "\n"
          ],
          "name": "stdout"
        }
      ]
    },
    {
      "cell_type": "markdown",
      "metadata": {
        "id": "lmaUc98MgyNx",
        "colab_type": "text"
      },
      "source": [
        "# **Random Forest Classifier**"
      ]
    },
    {
      "cell_type": "code",
      "metadata": {
        "id": "F30sC96zf4Zr",
        "colab_type": "code",
        "colab": {},
        "outputId": "aeb55e9e-d44b-41bc-82cf-3e579cc5b549"
      },
      "source": [
        "n = range (1,120,10) #step 10\n",
        "\n",
        "results = []\n",
        "for i in n:\n",
        "    clf = Pipeline([('vect', tfidf),\n",
        "                ('clf', RandomForestClassifier(n_estimators = i, random_state=0))])\n",
        "    clf.fit(X_train, y_train)\n",
        "    predictions = clf.predict(X_test)\n",
        "    results.append(accuracy_score(y_test, predictions))\n",
        "plt.grid()    \n",
        "plt.scatter(n, results)"
      ],
      "execution_count": null,
      "outputs": [
        {
          "output_type": "execute_result",
          "data": {
            "text/plain": [
              "<matplotlib.collections.PathCollection at 0x1f10ee18b88>"
            ]
          },
          "metadata": {
            "tags": []
          },
          "execution_count": 461
        },
        {
          "output_type": "display_data",
          "data": {
            "image/png": "[encoded data removed]",
            "text/plain": [
              "<Figure size 432x288 with 1 Axes>"
            ]
          },
          "metadata": {
            "tags": []
          }
        }
      ]
    },
    {
      "cell_type": "markdown",
      "metadata": {
        "id": "z9KsedfTf4Zt",
        "colab_type": "text"
      },
      "source": [
        "It is shown that with approximately 80 trees, Random Forest classifier starts reaching the highest performance."
      ]
    },
    {
      "cell_type": "code",
      "metadata": {
        "id": "WksHU7sif4Zt",
        "colab_type": "code",
        "colab": {},
        "outputId": "1b0858e0-2fbb-4d85-c4c2-b2ceadaa7084"
      },
      "source": [
        "from sklearn.ensemble import RandomForestClassifier\n",
        "\n",
        "tfidf = TfidfVectorizer(lowercase=False,\n",
        "                        tokenizer=tokenizer_porter,\n",
        "                        preprocessor=preprocessor)\n",
        "clf = Pipeline([('vect', tfidf),\n",
        "                ('clf', RandomForestClassifier(n_estimators = 80, random_state=0))])\n",
        "\n",
        "clf.fit(X_train, y_train)\n",
        "\n",
        "predictions = clf.predict(X_test)\n",
        "print('Accuracy:',accuracy_score(y_test,predictions))\n",
        "print('Confusion matrix:\\n',confusion_matrix(y_test,predictions))\n",
        "print('Classification report:\\n',classification_report(y_test,predictions))"
      ],
      "execution_count": null,
      "outputs": [
        {
          "output_type": "stream",
          "text": [
            "Accuracy: 0.6549975857073878\n",
            "Confusion matrix:\n",
            " [[ 871  178   87]\n",
            " [  80 1336  194]\n",
            " [ 118  772  506]]\n",
            "Classification report:\n",
            "               precision    recall  f1-score   support\n",
            "\n",
            "       brand       0.81      0.77      0.79      1136\n",
            "      female       0.58      0.83      0.69      1610\n",
            "        male       0.64      0.36      0.46      1396\n",
            "\n",
            "    accuracy                           0.65      4142\n",
            "   macro avg       0.68      0.65      0.65      4142\n",
            "weighted avg       0.67      0.65      0.64      4142\n",
            "\n"
          ],
          "name": "stdout"
        }
      ]
    },
    {
      "cell_type": "markdown",
      "metadata": {
        "id": "FQ9dFY9Wg_rd",
        "colab_type": "text"
      },
      "source": [
        "# **Support Vector Machine**"
      ]
    },
    {
      "cell_type": "code",
      "metadata": {
        "id": "goM1o7MJf4Zv",
        "colab_type": "code",
        "colab": {},
        "outputId": "40c66f99-87a4-448f-f24a-50a7fdff66e1"
      },
      "source": [
        "from sklearn.svm import SVC\n",
        "\n",
        "tfidf = TfidfVectorizer(lowercase=False,\n",
        "                        tokenizer=tokenizer_porter,\n",
        "                        preprocessor=preprocessor)\n",
        "clf = Pipeline([('vect', tfidf),\n",
        "                ('clf', SVC(kernel = 'linear'))])\n",
        "clf.fit(X_train, y_train)\n",
        "\n",
        "predictions = clf.predict(X_test)\n",
        "print('Accuracy:',accuracy_score(y_test,predictions))\n",
        "print('Confusion matrix:\\n',confusion_matrix(y_test,predictions))\n",
        "print('Classification report:\\n',classification_report(y_test,predictions))"
      ],
      "execution_count": null,
      "outputs": [
        {
          "output_type": "stream",
          "text": [
            "Accuracy: 0.6791405118300338\n",
            "Confusion matrix:\n",
            " [[ 940   82  114]\n",
            " [ 106 1139  365]\n",
            " [ 164  498  734]]\n",
            "Classification report:\n",
            "               precision    recall  f1-score   support\n",
            "\n",
            "           0       0.78      0.83      0.80      1136\n",
            "           1       0.66      0.71      0.68      1610\n",
            "           2       0.61      0.53      0.56      1396\n",
            "\n",
            "    accuracy                           0.68      4142\n",
            "   macro avg       0.68      0.69      0.68      4142\n",
            "weighted avg       0.67      0.68      0.68      4142\n",
            "\n"
          ],
          "name": "stdout"
        }
      ]
    },
    {
      "cell_type": "markdown",
      "metadata": {
        "id": "300rT0RLf4Zw",
        "colab_type": "text"
      },
      "source": [
        "Experimental Results\n",
        "Accuracy:\n",
        "\n",
        "Logistic Regression: 68.15%; \n",
        "Random Forest: 65.49%;\n",
        "SVM: 67.9%;\n",
        "Best model:Logistic Regresssion model"
      ]
    },
    {
      "cell_type": "markdown",
      "metadata": {
        "id": "P0CCcwWof4Zw",
        "colab_type": "text"
      },
      "source": [
        "# Ensemble technique - Take advantage of all 3 models"
      ]
    },
    {
      "cell_type": "code",
      "metadata": {
        "id": "xvb8bxPyf4Zx",
        "colab_type": "code",
        "colab": {},
        "outputId": "e4e42f52-2316-4f19-d058-9d3c6c0d83e8"
      },
      "source": [
        "from sklearn.ensemble import VotingClassifier\n",
        "clf1 = LogisticRegression(multi_class='ovr', random_state=0)\n",
        "clf2 = RandomForestClassifier(n_estimators = 80, random_state=0)\n",
        "clf3 = SVC(kernel = 'linear',probability = True, random_state=0)\n",
        "\n",
        "ensemble_clf = VotingClassifier(estimators=[\n",
        "        ('lr', clf1), ('rf', clf2), ('svm', clf3)], voting='soft')\n",
        "\n",
        "clf = Pipeline([('vect', tfidf),\n",
        "                ('clf', ensemble_clf)])\n",
        "\n",
        "clf.fit(X_train, y_train)\n",
        "\n",
        "# ensemble_clf.fit(X_train, y_train)\n",
        "\n",
        "predictions = clf.predict(X_test)\n",
        "print('Accuracy:',accuracy_score(y_test,predictions))\n",
        "print('Confusion matrix:\\n',confusion_matrix(y_test,predictions))\n",
        "print('Classification report:\\n',classification_report(y_test,predictions))"
      ],
      "execution_count": null,
      "outputs": [
        {
          "output_type": "stream",
          "text": [
            "Accuracy: 0.6895803183791607\n",
            "Confusion matrix:\n",
            " [[ 952   87   97]\n",
            " [ 126 1241  245]\n",
            " [ 163  569  666]]\n",
            "Classification report:\n",
            "               precision    recall  f1-score   support\n",
            "\n",
            "           0       0.77      0.84      0.80      1136\n",
            "           1       0.65      0.77      0.71      1612\n",
            "           2       0.66      0.48      0.55      1398\n",
            "\n",
            "    accuracy                           0.69      4146\n",
            "   macro avg       0.69      0.69      0.69      4146\n",
            "weighted avg       0.69      0.69      0.68      4146\n",
            "\n"
          ],
          "name": "stdout"
        }
      ]
    }
  ]
}